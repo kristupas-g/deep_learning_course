{
  "nbformat": 4,
  "nbformat_minor": 0,
  "metadata": {
    "colab": {
      "provenance": [],
      "collapsed_sections": [
        "6Em4FO0VJaix",
        "pZis28bY368L",
        "V2yGPCGQ61iE",
        "MtoDOWAK9mvT",
        "2ZbsS7fE72BE",
        "_-gsrqL8BWTs",
        "o39VlC89Ejjr",
        "DSSSO9ZBIPvo",
        "pExAwRhUdC04",
        "CD6dkD0Hh-ah",
        "ZdK3FNXuhInI",
        "1XMyqYByhs_C",
        "2IkzbQ4xiq7C"
      ],
      "authorship_tag": "ABX9TyNasigRYqQiCd2JbdEDRwCR",
      "include_colab_link": true
    },
    "kernelspec": {
      "name": "python3",
      "display_name": "Python 3"
    },
    "language_info": {
      "name": "python"
    },
    "accelerator": "GPU",
    "gpuClass": "standard"
  },
  "cells": [
    {
      "cell_type": "markdown",
      "metadata": {
        "id": "view-in-github",
        "colab_type": "text"
      },
      "source": [
        "<a href=\"https://colab.research.google.com/github/kristupas-g/deep_learning_course/blob/main/resnet50_inference.ipynb\" target=\"_parent\"><img src=\"https://colab.research.google.com/assets/colab-badge.svg\" alt=\"Open In Colab\"/></a>"
      ]
    },
    {
      "cell_type": "markdown",
      "source": [
        "# Deep learning course first task\n",
        "\n",
        "Student: **Kristupas Gaidys** *(2015973)*\n",
        "\n",
        "Model: **resnet50**\n",
        "\n",
        "\n",
        "\n",
        "--- "
      ],
      "metadata": {
        "id": "SKXwprnVq3bJ"
      }
    },
    {
      "cell_type": "code",
      "source": [
        "classes = [\"Cucumber\", \"Artichoke\", \"Banana\"]"
      ],
      "metadata": {
        "id": "P7b1k2whENTX"
      },
      "execution_count": 234,
      "outputs": []
    },
    {
      "cell_type": "markdown",
      "source": [
        "## Configuration"
      ],
      "metadata": {
        "id": "6Em4FO0VJaix"
      }
    },
    {
      "cell_type": "code",
      "source": [
        "!pip install openimages torchmetrics"
      ],
      "metadata": {
        "id": "8T7NmQHjJgUi",
        "colab": {
          "base_uri": "https://localhost:8080/"
        },
        "outputId": "6b268afe-79f2-47ca-ccb4-4e7363e8f294"
      },
      "execution_count": 235,
      "outputs": [
        {
          "output_type": "stream",
          "name": "stdout",
          "text": [
            "Looking in indexes: https://pypi.org/simple, https://us-python.pkg.dev/colab-wheels/public/simple/\n",
            "Requirement already satisfied: openimages in /usr/local/lib/python3.8/dist-packages (0.0.1)\n",
            "Requirement already satisfied: torchmetrics in /usr/local/lib/python3.8/dist-packages (0.11.1)\n",
            "Requirement already satisfied: pandas in /usr/local/lib/python3.8/dist-packages (from openimages) (1.3.5)\n",
            "Requirement already satisfied: tqdm in /usr/local/lib/python3.8/dist-packages (from openimages) (4.64.1)\n",
            "Requirement already satisfied: requests in /usr/local/lib/python3.8/dist-packages (from openimages) (2.25.1)\n",
            "Requirement already satisfied: cvdata in /usr/local/lib/python3.8/dist-packages (from openimages) (0.0.3)\n",
            "Requirement already satisfied: boto3 in /usr/local/lib/python3.8/dist-packages (from openimages) (1.26.79)\n",
            "Requirement already satisfied: lxml in /usr/local/lib/python3.8/dist-packages (from openimages) (4.9.2)\n",
            "Requirement already satisfied: numpy>=1.17.2 in /usr/local/lib/python3.8/dist-packages (from torchmetrics) (1.22.4)\n",
            "Requirement already satisfied: packaging in /usr/local/lib/python3.8/dist-packages (from torchmetrics) (23.0)\n",
            "Requirement already satisfied: torch>=1.8.1 in /usr/local/lib/python3.8/dist-packages (from torchmetrics) (1.13.1+cu116)\n",
            "Requirement already satisfied: typing-extensions in /usr/local/lib/python3.8/dist-packages (from torchmetrics) (4.5.0)\n",
            "Requirement already satisfied: jmespath<2.0.0,>=0.7.1 in /usr/local/lib/python3.8/dist-packages (from boto3->openimages) (1.0.1)\n",
            "Requirement already satisfied: botocore<1.30.0,>=1.29.79 in /usr/local/lib/python3.8/dist-packages (from boto3->openimages) (1.29.79)\n",
            "Requirement already satisfied: s3transfer<0.7.0,>=0.6.0 in /usr/local/lib/python3.8/dist-packages (from boto3->openimages) (0.6.0)\n",
            "Requirement already satisfied: pillow in /usr/local/lib/python3.8/dist-packages (from cvdata->openimages) (7.1.2)\n",
            "Requirement already satisfied: opencv-python in /usr/local/lib/python3.8/dist-packages (from cvdata->openimages) (4.6.0.66)\n",
            "Requirement already satisfied: pytz>=2017.3 in /usr/local/lib/python3.8/dist-packages (from pandas->openimages) (2022.7.1)\n",
            "Requirement already satisfied: python-dateutil>=2.7.3 in /usr/local/lib/python3.8/dist-packages (from pandas->openimages) (2.8.2)\n",
            "Requirement already satisfied: certifi>=2017.4.17 in /usr/local/lib/python3.8/dist-packages (from requests->openimages) (2022.12.7)\n",
            "Requirement already satisfied: urllib3<1.27,>=1.21.1 in /usr/local/lib/python3.8/dist-packages (from requests->openimages) (1.26.14)\n",
            "Requirement already satisfied: chardet<5,>=3.0.2 in /usr/local/lib/python3.8/dist-packages (from requests->openimages) (4.0.0)\n",
            "Requirement already satisfied: idna<3,>=2.5 in /usr/local/lib/python3.8/dist-packages (from requests->openimages) (2.10)\n",
            "Requirement already satisfied: six>=1.5 in /usr/local/lib/python3.8/dist-packages (from python-dateutil>=2.7.3->pandas->openimages) (1.15.0)\n"
          ]
        }
      ]
    },
    {
      "cell_type": "code",
      "source": [
        "import torch\n",
        "device = torch.device(\"cuda\" if torch.cuda.is_available() else \"cpu\")"
      ],
      "metadata": {
        "id": "ZvLM5vanmmpO"
      },
      "execution_count": 236,
      "outputs": []
    },
    {
      "cell_type": "markdown",
      "source": [
        "## Downloading data"
      ],
      "metadata": {
        "id": "pZis28bY368L"
      }
    },
    {
      "cell_type": "code",
      "source": [
        "from os import path, makedirs\n",
        "from math import ceil\n",
        "from openimages.download import download_dataset"
      ],
      "metadata": {
        "id": "DjST7MxSab7w"
      },
      "execution_count": 237,
      "outputs": []
    },
    {
      "cell_type": "code",
      "source": [
        "amount_to_classify = 1000\n",
        "data_dir = \"data\"\n",
        "images_per_class = ceil(amount_to_classify/3)"
      ],
      "metadata": {
        "id": "LT3hD7KDadb5"
      },
      "execution_count": 238,
      "outputs": []
    },
    {
      "cell_type": "code",
      "source": [
        "if not path.exists(data_dir):\n",
        "    makedirs(data_dir)"
      ],
      "metadata": {
        "id": "-FsW7_6uader"
      },
      "execution_count": 239,
      "outputs": []
    },
    {
      "cell_type": "code",
      "source": [
        "download_dataset(data_dir, classes, limit=images_per_class)"
      ],
      "metadata": {
        "id": "pePq489aah1w",
        "colab": {
          "base_uri": "https://localhost:8080/"
        },
        "outputId": "2b6b3c3a-36a5-4a81-f8f8-c28a8f038158"
      },
      "execution_count": 240,
      "outputs": [
        {
          "output_type": "stream",
          "name": "stderr",
          "text": [
            "100%|██████████| 334/334 [00:19<00:00, 17.12it/s]\n",
            "100%|██████████| 71/71 [00:05<00:00, 12.60it/s]\n",
            "100%|██████████| 334/334 [00:19<00:00, 17.02it/s]\n"
          ]
        },
        {
          "output_type": "execute_result",
          "data": {
            "text/plain": [
              "{'cucumber': {'images_dir': 'data/cucumber/images'},\n",
              " 'artichoke': {'images_dir': 'data/artichoke/images'},\n",
              " 'banana': {'images_dir': 'data/banana/images'}}"
            ]
          },
          "metadata": {},
          "execution_count": 240
        }
      ]
    },
    {
      "cell_type": "markdown",
      "source": [
        "## Custom Dataset class"
      ],
      "metadata": {
        "id": "V2yGPCGQ61iE"
      }
    },
    {
      "cell_type": "code",
      "source": [
        "from torchvision.io import read_image\n",
        "from torch.utils.data.dataset import Dataset\n",
        "from glob import glob"
      ],
      "metadata": {
        "id": "jlbA--l97b54"
      },
      "execution_count": 241,
      "outputs": []
    },
    {
      "cell_type": "code",
      "source": [
        "class ClassificationDataset(Dataset):\n",
        "    def __init__(self,image_dir,transforms = None):\n",
        "        self.transforms = transforms\n",
        "        self.image_dir = image_dir\n",
        "\n",
        "\n",
        "        self.files = glob(image_dir + \"**/*.jpg\", recursive=True) \n",
        "        \n",
        "        \n",
        "    def __getitem__(self, index):\n",
        "        image_dir = self.files[index]\n",
        "        image_tensor = read_image(image_dir).float()\n",
        "\n",
        "        to_rgb = transforms.Lambda(lambda x: x.repeat(3, 1, 1) if x.size(0)==1 else x)\n",
        "        image_tensor = to_rgb(image_tensor)\n",
        " \n",
        "        if self.transforms is not None:\n",
        "            image_tensor = self.transforms(image_tensor)\n",
        "\n",
        "        class_name = image_dir.split(\"/\")[1]\n",
        "        label = torch.tensor([x.lower() for x in classes].index(class_name))\n",
        "   \n",
        "        image_tensor, label = image_tensor.to(device), label.to(device)\n",
        "        \n",
        "        return (image_tensor, label)    \n",
        "\n",
        "\n",
        "    def __len__(self):\n",
        "        return len(self.files)"
      ],
      "metadata": {
        "id": "RXyIaxouF3yf"
      },
      "execution_count": 242,
      "outputs": []
    },
    {
      "cell_type": "markdown",
      "source": [
        "## Model initialization\n"
      ],
      "metadata": {
        "id": "MtoDOWAK9mvT"
      }
    },
    {
      "cell_type": "code",
      "source": [
        "from torchvision.models import resnet50, ResNet50_Weights "
      ],
      "metadata": {
        "id": "3GSzD3479qyK"
      },
      "execution_count": 243,
      "outputs": []
    },
    {
      "cell_type": "code",
      "source": [
        "weights = ResNet50_Weights.DEFAULT\n",
        "\n",
        "model = resnet50(weights = weights)\n",
        "model.eval().to(device)"
      ],
      "metadata": {
        "colab": {
          "base_uri": "https://localhost:8080/"
        },
        "id": "G79adtrX9z5_",
        "outputId": "b5bf22d1-79a4-4093-d598-0cab6e00e9ee"
      },
      "execution_count": 244,
      "outputs": [
        {
          "output_type": "execute_result",
          "data": {
            "text/plain": [
              "ResNet(\n",
              "  (conv1): Conv2d(3, 64, kernel_size=(7, 7), stride=(2, 2), padding=(3, 3), bias=False)\n",
              "  (bn1): BatchNorm2d(64, eps=1e-05, momentum=0.1, affine=True, track_running_stats=True)\n",
              "  (relu): ReLU(inplace=True)\n",
              "  (maxpool): MaxPool2d(kernel_size=3, stride=2, padding=1, dilation=1, ceil_mode=False)\n",
              "  (layer1): Sequential(\n",
              "    (0): Bottleneck(\n",
              "      (conv1): Conv2d(64, 64, kernel_size=(1, 1), stride=(1, 1), bias=False)\n",
              "      (bn1): BatchNorm2d(64, eps=1e-05, momentum=0.1, affine=True, track_running_stats=True)\n",
              "      (conv2): Conv2d(64, 64, kernel_size=(3, 3), stride=(1, 1), padding=(1, 1), bias=False)\n",
              "      (bn2): BatchNorm2d(64, eps=1e-05, momentum=0.1, affine=True, track_running_stats=True)\n",
              "      (conv3): Conv2d(64, 256, kernel_size=(1, 1), stride=(1, 1), bias=False)\n",
              "      (bn3): BatchNorm2d(256, eps=1e-05, momentum=0.1, affine=True, track_running_stats=True)\n",
              "      (relu): ReLU(inplace=True)\n",
              "      (downsample): Sequential(\n",
              "        (0): Conv2d(64, 256, kernel_size=(1, 1), stride=(1, 1), bias=False)\n",
              "        (1): BatchNorm2d(256, eps=1e-05, momentum=0.1, affine=True, track_running_stats=True)\n",
              "      )\n",
              "    )\n",
              "    (1): Bottleneck(\n",
              "      (conv1): Conv2d(256, 64, kernel_size=(1, 1), stride=(1, 1), bias=False)\n",
              "      (bn1): BatchNorm2d(64, eps=1e-05, momentum=0.1, affine=True, track_running_stats=True)\n",
              "      (conv2): Conv2d(64, 64, kernel_size=(3, 3), stride=(1, 1), padding=(1, 1), bias=False)\n",
              "      (bn2): BatchNorm2d(64, eps=1e-05, momentum=0.1, affine=True, track_running_stats=True)\n",
              "      (conv3): Conv2d(64, 256, kernel_size=(1, 1), stride=(1, 1), bias=False)\n",
              "      (bn3): BatchNorm2d(256, eps=1e-05, momentum=0.1, affine=True, track_running_stats=True)\n",
              "      (relu): ReLU(inplace=True)\n",
              "    )\n",
              "    (2): Bottleneck(\n",
              "      (conv1): Conv2d(256, 64, kernel_size=(1, 1), stride=(1, 1), bias=False)\n",
              "      (bn1): BatchNorm2d(64, eps=1e-05, momentum=0.1, affine=True, track_running_stats=True)\n",
              "      (conv2): Conv2d(64, 64, kernel_size=(3, 3), stride=(1, 1), padding=(1, 1), bias=False)\n",
              "      (bn2): BatchNorm2d(64, eps=1e-05, momentum=0.1, affine=True, track_running_stats=True)\n",
              "      (conv3): Conv2d(64, 256, kernel_size=(1, 1), stride=(1, 1), bias=False)\n",
              "      (bn3): BatchNorm2d(256, eps=1e-05, momentum=0.1, affine=True, track_running_stats=True)\n",
              "      (relu): ReLU(inplace=True)\n",
              "    )\n",
              "  )\n",
              "  (layer2): Sequential(\n",
              "    (0): Bottleneck(\n",
              "      (conv1): Conv2d(256, 128, kernel_size=(1, 1), stride=(1, 1), bias=False)\n",
              "      (bn1): BatchNorm2d(128, eps=1e-05, momentum=0.1, affine=True, track_running_stats=True)\n",
              "      (conv2): Conv2d(128, 128, kernel_size=(3, 3), stride=(2, 2), padding=(1, 1), bias=False)\n",
              "      (bn2): BatchNorm2d(128, eps=1e-05, momentum=0.1, affine=True, track_running_stats=True)\n",
              "      (conv3): Conv2d(128, 512, kernel_size=(1, 1), stride=(1, 1), bias=False)\n",
              "      (bn3): BatchNorm2d(512, eps=1e-05, momentum=0.1, affine=True, track_running_stats=True)\n",
              "      (relu): ReLU(inplace=True)\n",
              "      (downsample): Sequential(\n",
              "        (0): Conv2d(256, 512, kernel_size=(1, 1), stride=(2, 2), bias=False)\n",
              "        (1): BatchNorm2d(512, eps=1e-05, momentum=0.1, affine=True, track_running_stats=True)\n",
              "      )\n",
              "    )\n",
              "    (1): Bottleneck(\n",
              "      (conv1): Conv2d(512, 128, kernel_size=(1, 1), stride=(1, 1), bias=False)\n",
              "      (bn1): BatchNorm2d(128, eps=1e-05, momentum=0.1, affine=True, track_running_stats=True)\n",
              "      (conv2): Conv2d(128, 128, kernel_size=(3, 3), stride=(1, 1), padding=(1, 1), bias=False)\n",
              "      (bn2): BatchNorm2d(128, eps=1e-05, momentum=0.1, affine=True, track_running_stats=True)\n",
              "      (conv3): Conv2d(128, 512, kernel_size=(1, 1), stride=(1, 1), bias=False)\n",
              "      (bn3): BatchNorm2d(512, eps=1e-05, momentum=0.1, affine=True, track_running_stats=True)\n",
              "      (relu): ReLU(inplace=True)\n",
              "    )\n",
              "    (2): Bottleneck(\n",
              "      (conv1): Conv2d(512, 128, kernel_size=(1, 1), stride=(1, 1), bias=False)\n",
              "      (bn1): BatchNorm2d(128, eps=1e-05, momentum=0.1, affine=True, track_running_stats=True)\n",
              "      (conv2): Conv2d(128, 128, kernel_size=(3, 3), stride=(1, 1), padding=(1, 1), bias=False)\n",
              "      (bn2): BatchNorm2d(128, eps=1e-05, momentum=0.1, affine=True, track_running_stats=True)\n",
              "      (conv3): Conv2d(128, 512, kernel_size=(1, 1), stride=(1, 1), bias=False)\n",
              "      (bn3): BatchNorm2d(512, eps=1e-05, momentum=0.1, affine=True, track_running_stats=True)\n",
              "      (relu): ReLU(inplace=True)\n",
              "    )\n",
              "    (3): Bottleneck(\n",
              "      (conv1): Conv2d(512, 128, kernel_size=(1, 1), stride=(1, 1), bias=False)\n",
              "      (bn1): BatchNorm2d(128, eps=1e-05, momentum=0.1, affine=True, track_running_stats=True)\n",
              "      (conv2): Conv2d(128, 128, kernel_size=(3, 3), stride=(1, 1), padding=(1, 1), bias=False)\n",
              "      (bn2): BatchNorm2d(128, eps=1e-05, momentum=0.1, affine=True, track_running_stats=True)\n",
              "      (conv3): Conv2d(128, 512, kernel_size=(1, 1), stride=(1, 1), bias=False)\n",
              "      (bn3): BatchNorm2d(512, eps=1e-05, momentum=0.1, affine=True, track_running_stats=True)\n",
              "      (relu): ReLU(inplace=True)\n",
              "    )\n",
              "  )\n",
              "  (layer3): Sequential(\n",
              "    (0): Bottleneck(\n",
              "      (conv1): Conv2d(512, 256, kernel_size=(1, 1), stride=(1, 1), bias=False)\n",
              "      (bn1): BatchNorm2d(256, eps=1e-05, momentum=0.1, affine=True, track_running_stats=True)\n",
              "      (conv2): Conv2d(256, 256, kernel_size=(3, 3), stride=(2, 2), padding=(1, 1), bias=False)\n",
              "      (bn2): BatchNorm2d(256, eps=1e-05, momentum=0.1, affine=True, track_running_stats=True)\n",
              "      (conv3): Conv2d(256, 1024, kernel_size=(1, 1), stride=(1, 1), bias=False)\n",
              "      (bn3): BatchNorm2d(1024, eps=1e-05, momentum=0.1, affine=True, track_running_stats=True)\n",
              "      (relu): ReLU(inplace=True)\n",
              "      (downsample): Sequential(\n",
              "        (0): Conv2d(512, 1024, kernel_size=(1, 1), stride=(2, 2), bias=False)\n",
              "        (1): BatchNorm2d(1024, eps=1e-05, momentum=0.1, affine=True, track_running_stats=True)\n",
              "      )\n",
              "    )\n",
              "    (1): Bottleneck(\n",
              "      (conv1): Conv2d(1024, 256, kernel_size=(1, 1), stride=(1, 1), bias=False)\n",
              "      (bn1): BatchNorm2d(256, eps=1e-05, momentum=0.1, affine=True, track_running_stats=True)\n",
              "      (conv2): Conv2d(256, 256, kernel_size=(3, 3), stride=(1, 1), padding=(1, 1), bias=False)\n",
              "      (bn2): BatchNorm2d(256, eps=1e-05, momentum=0.1, affine=True, track_running_stats=True)\n",
              "      (conv3): Conv2d(256, 1024, kernel_size=(1, 1), stride=(1, 1), bias=False)\n",
              "      (bn3): BatchNorm2d(1024, eps=1e-05, momentum=0.1, affine=True, track_running_stats=True)\n",
              "      (relu): ReLU(inplace=True)\n",
              "    )\n",
              "    (2): Bottleneck(\n",
              "      (conv1): Conv2d(1024, 256, kernel_size=(1, 1), stride=(1, 1), bias=False)\n",
              "      (bn1): BatchNorm2d(256, eps=1e-05, momentum=0.1, affine=True, track_running_stats=True)\n",
              "      (conv2): Conv2d(256, 256, kernel_size=(3, 3), stride=(1, 1), padding=(1, 1), bias=False)\n",
              "      (bn2): BatchNorm2d(256, eps=1e-05, momentum=0.1, affine=True, track_running_stats=True)\n",
              "      (conv3): Conv2d(256, 1024, kernel_size=(1, 1), stride=(1, 1), bias=False)\n",
              "      (bn3): BatchNorm2d(1024, eps=1e-05, momentum=0.1, affine=True, track_running_stats=True)\n",
              "      (relu): ReLU(inplace=True)\n",
              "    )\n",
              "    (3): Bottleneck(\n",
              "      (conv1): Conv2d(1024, 256, kernel_size=(1, 1), stride=(1, 1), bias=False)\n",
              "      (bn1): BatchNorm2d(256, eps=1e-05, momentum=0.1, affine=True, track_running_stats=True)\n",
              "      (conv2): Conv2d(256, 256, kernel_size=(3, 3), stride=(1, 1), padding=(1, 1), bias=False)\n",
              "      (bn2): BatchNorm2d(256, eps=1e-05, momentum=0.1, affine=True, track_running_stats=True)\n",
              "      (conv3): Conv2d(256, 1024, kernel_size=(1, 1), stride=(1, 1), bias=False)\n",
              "      (bn3): BatchNorm2d(1024, eps=1e-05, momentum=0.1, affine=True, track_running_stats=True)\n",
              "      (relu): ReLU(inplace=True)\n",
              "    )\n",
              "    (4): Bottleneck(\n",
              "      (conv1): Conv2d(1024, 256, kernel_size=(1, 1), stride=(1, 1), bias=False)\n",
              "      (bn1): BatchNorm2d(256, eps=1e-05, momentum=0.1, affine=True, track_running_stats=True)\n",
              "      (conv2): Conv2d(256, 256, kernel_size=(3, 3), stride=(1, 1), padding=(1, 1), bias=False)\n",
              "      (bn2): BatchNorm2d(256, eps=1e-05, momentum=0.1, affine=True, track_running_stats=True)\n",
              "      (conv3): Conv2d(256, 1024, kernel_size=(1, 1), stride=(1, 1), bias=False)\n",
              "      (bn3): BatchNorm2d(1024, eps=1e-05, momentum=0.1, affine=True, track_running_stats=True)\n",
              "      (relu): ReLU(inplace=True)\n",
              "    )\n",
              "    (5): Bottleneck(\n",
              "      (conv1): Conv2d(1024, 256, kernel_size=(1, 1), stride=(1, 1), bias=False)\n",
              "      (bn1): BatchNorm2d(256, eps=1e-05, momentum=0.1, affine=True, track_running_stats=True)\n",
              "      (conv2): Conv2d(256, 256, kernel_size=(3, 3), stride=(1, 1), padding=(1, 1), bias=False)\n",
              "      (bn2): BatchNorm2d(256, eps=1e-05, momentum=0.1, affine=True, track_running_stats=True)\n",
              "      (conv3): Conv2d(256, 1024, kernel_size=(1, 1), stride=(1, 1), bias=False)\n",
              "      (bn3): BatchNorm2d(1024, eps=1e-05, momentum=0.1, affine=True, track_running_stats=True)\n",
              "      (relu): ReLU(inplace=True)\n",
              "    )\n",
              "  )\n",
              "  (layer4): Sequential(\n",
              "    (0): Bottleneck(\n",
              "      (conv1): Conv2d(1024, 512, kernel_size=(1, 1), stride=(1, 1), bias=False)\n",
              "      (bn1): BatchNorm2d(512, eps=1e-05, momentum=0.1, affine=True, track_running_stats=True)\n",
              "      (conv2): Conv2d(512, 512, kernel_size=(3, 3), stride=(2, 2), padding=(1, 1), bias=False)\n",
              "      (bn2): BatchNorm2d(512, eps=1e-05, momentum=0.1, affine=True, track_running_stats=True)\n",
              "      (conv3): Conv2d(512, 2048, kernel_size=(1, 1), stride=(1, 1), bias=False)\n",
              "      (bn3): BatchNorm2d(2048, eps=1e-05, momentum=0.1, affine=True, track_running_stats=True)\n",
              "      (relu): ReLU(inplace=True)\n",
              "      (downsample): Sequential(\n",
              "        (0): Conv2d(1024, 2048, kernel_size=(1, 1), stride=(2, 2), bias=False)\n",
              "        (1): BatchNorm2d(2048, eps=1e-05, momentum=0.1, affine=True, track_running_stats=True)\n",
              "      )\n",
              "    )\n",
              "    (1): Bottleneck(\n",
              "      (conv1): Conv2d(2048, 512, kernel_size=(1, 1), stride=(1, 1), bias=False)\n",
              "      (bn1): BatchNorm2d(512, eps=1e-05, momentum=0.1, affine=True, track_running_stats=True)\n",
              "      (conv2): Conv2d(512, 512, kernel_size=(3, 3), stride=(1, 1), padding=(1, 1), bias=False)\n",
              "      (bn2): BatchNorm2d(512, eps=1e-05, momentum=0.1, affine=True, track_running_stats=True)\n",
              "      (conv3): Conv2d(512, 2048, kernel_size=(1, 1), stride=(1, 1), bias=False)\n",
              "      (bn3): BatchNorm2d(2048, eps=1e-05, momentum=0.1, affine=True, track_running_stats=True)\n",
              "      (relu): ReLU(inplace=True)\n",
              "    )\n",
              "    (2): Bottleneck(\n",
              "      (conv1): Conv2d(2048, 512, kernel_size=(1, 1), stride=(1, 1), bias=False)\n",
              "      (bn1): BatchNorm2d(512, eps=1e-05, momentum=0.1, affine=True, track_running_stats=True)\n",
              "      (conv2): Conv2d(512, 512, kernel_size=(3, 3), stride=(1, 1), padding=(1, 1), bias=False)\n",
              "      (bn2): BatchNorm2d(512, eps=1e-05, momentum=0.1, affine=True, track_running_stats=True)\n",
              "      (conv3): Conv2d(512, 2048, kernel_size=(1, 1), stride=(1, 1), bias=False)\n",
              "      (bn3): BatchNorm2d(2048, eps=1e-05, momentum=0.1, affine=True, track_running_stats=True)\n",
              "      (relu): ReLU(inplace=True)\n",
              "    )\n",
              "  )\n",
              "  (avgpool): AdaptiveAvgPool2d(output_size=(1, 1))\n",
              "  (fc): Linear(in_features=2048, out_features=1000, bias=True)\n",
              ")"
            ]
          },
          "metadata": {},
          "execution_count": 244
        }
      ]
    },
    {
      "cell_type": "markdown",
      "source": [
        "## Dataloader\n"
      ],
      "metadata": {
        "id": "2ZbsS7fE72BE"
      }
    },
    {
      "cell_type": "code",
      "source": [
        "from torch.utils.data import DataLoader\n",
        "import torchvision.transforms as transforms"
      ],
      "metadata": {
        "id": "ZKVfAds174op"
      },
      "execution_count": 245,
      "outputs": []
    },
    {
      "cell_type": "code",
      "source": [
        "transform = weights.transforms()"
      ],
      "metadata": {
        "id": "-HreVoJKOcC5"
      },
      "execution_count": 246,
      "outputs": []
    },
    {
      "cell_type": "code",
      "source": [
        "dataset = ClassificationDataset(\"data/\", transforms = transform)\n",
        "batchsize = 32\n",
        "workers = 3\n",
        "\n",
        "dataloader = DataLoader(\n",
        "    dataset,\n",
        "    batch_size = batchsize,\n",
        "    #num_workers = workers \n",
        ")"
      ],
      "metadata": {
        "id": "jjwn8KHJ7_9g"
      },
      "execution_count": 247,
      "outputs": []
    },
    {
      "cell_type": "markdown",
      "source": [
        "## Performing inference"
      ],
      "metadata": {
        "id": "_-gsrqL8BWTs"
      }
    },
    {
      "cell_type": "markdown",
      "source": [
        "*class_idx* is a list of indexes of our chosen classes in the model"
      ],
      "metadata": {
        "id": "mWrkaKLok0lG"
      }
    },
    {
      "cell_type": "code",
      "source": [
        "models_classes = weights.meta[\"categories\"]\n",
        "\n",
        "class_idx = [models_classes.index(chosen_class.lower()) for chosen_class in classes]"
      ],
      "metadata": {
        "id": "1ESPBf_DkoxZ"
      },
      "execution_count": 248,
      "outputs": []
    },
    {
      "cell_type": "code",
      "source": [
        "results_as_probabilities_with_target = []\n",
        "\n",
        "for data, target in dataloader:\n",
        "    prediction = model(data).sigmoid()\n",
        "\n",
        "    for image_idx, class_predictions in enumerate(prediction):\n",
        "        chosen_class_predictions = [class_predictions[idx].item() for idx in class_idx]\n",
        "        actual_class = target[image_idx].item()\n",
        "        results_as_probabilities_with_target.append((chosen_class_predictions, actual_class))"
      ],
      "metadata": {
        "id": "UuAq92HtBZ_G"
      },
      "execution_count": 249,
      "outputs": []
    },
    {
      "cell_type": "markdown",
      "source": [
        "*results_as_probabilities_with_target* variable holds a tuple where the first element is an array of our class probabilities and the second element of the tuple is the index of the actuall class."
      ],
      "metadata": {
        "id": "l1cMK7uFEpnC"
      }
    },
    {
      "cell_type": "markdown",
      "source": [
        "## Thresholds"
      ],
      "metadata": {
        "id": "4XuZq7tdGoAQ"
      }
    },
    {
      "cell_type": "code",
      "source": [
        "thresholds = [0.5, 0.5, 0.5]"
      ],
      "metadata": {
        "id": "b-QFk3ddGprW"
      },
      "execution_count": 282,
      "outputs": []
    },
    {
      "cell_type": "markdown",
      "source": [
        "## Result interpretation"
      ],
      "metadata": {
        "id": "o39VlC89Ejjr"
      }
    },
    {
      "cell_type": "markdown",
      "source": [
        "### Comparing results to threshold values"
      ],
      "metadata": {
        "id": "DSSSO9ZBIPvo"
      }
    },
    {
      "cell_type": "markdown",
      "source": [
        "*results_as_booleans* is a list which contains lists of boolean values that describe if the class was detected in the image"
      ],
      "metadata": {
        "id": "cx3cW_0HL23Q"
      }
    },
    {
      "cell_type": "code",
      "source": [
        "results_as_booleans = []\n",
        "\n",
        "for class_probabilities in results_as_probabilities:\n",
        "    image_booleans = []\n",
        "    for class_idx, class_probability in enumerate(class_probabilities):\n",
        "        verdict = class_probability >= thresholds[class_idx]\n",
        "        image_booleans.append(int(verdict))\n",
        "    results_as_booleans.append(image_booleans)"
      ],
      "metadata": {
        "id": "zR-hmnCLImLC"
      },
      "execution_count": 299,
      "outputs": []
    },
    {
      "cell_type": "markdown",
      "source": [
        "*results_as_booleans_with_target* is a list of tuples where the first element is an array of booleans and the second element is the index of the class that we are expecting"
      ],
      "metadata": {
        "id": "sYZZO5uaNyeS"
      }
    },
    {
      "cell_type": "code",
      "source": [
        "results_as_booleans_with_target = []\n",
        "\n",
        "for idx in range(len(results_as_probabilities_with_target)):\n",
        "    booleans_with_target = (results_as_booleans[idx], results_as_probabilities_with_target[idx][1])\n",
        "    results_as_booleans_with_target.append(booleans_with_target) "
      ],
      "metadata": {
        "id": "xjpuYu_3PDpE"
      },
      "execution_count": 300,
      "outputs": []
    },
    {
      "cell_type": "markdown",
      "source": [
        "### Calculating TP, FP, TN, FN"
      ],
      "metadata": {
        "id": "pExAwRhUdC04"
      }
    },
    {
      "cell_type": "code",
      "source": [
        "true_positives = 0\n",
        "false_positives = 0\n",
        "true_negatives = 0\n",
        "false_negatives = 0"
      ],
      "metadata": {
        "id": "4XCDJLtidKz7"
      },
      "execution_count": 301,
      "outputs": []
    },
    {
      "cell_type": "code",
      "source": [
        "for predictions, target_idx in results_as_booleans_with_target:\n",
        "    for idx, prediction in enumerate(predictions):\n",
        "        # Positives\n",
        "        if prediction == 1 and idx == target_idx:\n",
        "            true_positives += 1\n",
        "        if prediction == 1 and idx != target_idx:\n",
        "            false_positives += 1\n",
        "            \n",
        "        # Negatives\n",
        "        if prediction == 0 and idx != target_idx:\n",
        "            true_negatives += 1\n",
        "        if prediction == 0 and idx == target_idx:\n",
        "            false_negatives += 1"
      ],
      "metadata": {
        "id": "FvBcInZJdbZY"
      },
      "execution_count": 302,
      "outputs": []
    },
    {
      "cell_type": "markdown",
      "source": [
        "### Calculating *accuracy*"
      ],
      "metadata": {
        "id": "CD6dkD0Hh-ah"
      }
    },
    {
      "cell_type": "markdown",
      "source": [
        "**Accuracy = (TP + TN) / (TP + TN + FP + FN)**"
      ],
      "metadata": {
        "id": "4o0vCnefiCGl"
      }
    },
    {
      "cell_type": "code",
      "source": [
        "accuracy = (true_positives + true_negatives) / \\\n",
        "    (true_positives + true_negatives + false_positives + false_negatives)"
      ],
      "metadata": {
        "id": "yqF69WSsiPGG"
      },
      "execution_count": 303,
      "outputs": []
    },
    {
      "cell_type": "markdown",
      "source": [
        "### Calculating *precision*"
      ],
      "metadata": {
        "id": "ZdK3FNXuhInI"
      }
    },
    {
      "cell_type": "markdown",
      "source": [
        "**Precision = TP / (TP + FP)**"
      ],
      "metadata": {
        "id": "794GE8hghQbY"
      }
    },
    {
      "cell_type": "code",
      "source": [
        "precision = true_positives / (true_positives + false_positives)"
      ],
      "metadata": {
        "id": "tG87RW9ThPwZ"
      },
      "execution_count": 304,
      "outputs": []
    },
    {
      "cell_type": "markdown",
      "source": [
        "### Calculating *recall*"
      ],
      "metadata": {
        "id": "1XMyqYByhs_C"
      }
    },
    {
      "cell_type": "markdown",
      "source": [
        "**Recall = TP / (TP + FN)**"
      ],
      "metadata": {
        "id": "V06QLkZNhvnS"
      }
    },
    {
      "cell_type": "code",
      "source": [
        "recall = true_positives / (true_positives + false_negatives)"
      ],
      "metadata": {
        "id": "JqpJ0mHrhxM-"
      },
      "execution_count": 305,
      "outputs": []
    },
    {
      "cell_type": "markdown",
      "source": [
        "### Calculating *F1 score*"
      ],
      "metadata": {
        "id": "2IkzbQ4xiq7C"
      }
    },
    {
      "cell_type": "markdown",
      "source": [
        "**F1 score = 2 * (precision * recall) / (precision + recall)**"
      ],
      "metadata": {
        "id": "uytr4t8livY0"
      }
    },
    {
      "cell_type": "code",
      "source": [
        "f1 = 2 * (precision * recall) / (precision + recall)"
      ],
      "metadata": {
        "id": "GrvCO1eeizxk"
      },
      "execution_count": 306,
      "outputs": []
    },
    {
      "cell_type": "markdown",
      "source": [
        "## Generating report"
      ],
      "metadata": {
        "id": "Wc6pZS5Hi-kL"
      }
    },
    {
      "cell_type": "markdown",
      "source": [
        "This library was used to verify that calculations statistic calculations are correct"
      ],
      "metadata": {
        "id": "mJFmhzNv0-mo"
      }
    },
    {
      "cell_type": "code",
      "source": [
        "print(\"Chosen classes: \\t\\t\\t\", classes)\n",
        "print(\"\\n\")\n",
        "\n",
        "print(\"Amount of predictions done: \\t\\t\", amount_to_classify)\n",
        "print(\"Images per class: \\t\\t\\t\", images_per_class)\n",
        "print(\"\\n\")\n",
        "\n",
        "print(\"TP: \\t\\t\\t\\t\\t\", true_positives)\n",
        "print(\"FP: \\t\\t\\t\\t\\t\", false_positives)\n",
        "print(\"TN: \\t\\t\\t\\t\\t\", true_negatives)\n",
        "print(\"FN: \\t\\t\\t\\t\\t\", false_negatives)\n",
        "print(\"\\n\")\n",
        "\n",
        "print(\"Accuracy: \\t\\t\\t\\t\", accuracy)\n",
        "print(\"Precision: \\t\\t\\t\\t\", precision)\n",
        "print(\"Recall: \\t\\t\\t\\t\", recall)\n",
        "print(\"F1 score: \\t\\t\\t\\t\", f1)"
      ],
      "metadata": {
        "colab": {
          "base_uri": "https://localhost:8080/"
        },
        "id": "54ocdygvjFeE",
        "outputId": "823da1a0-ac75-4cd8-e45d-bb61884478f0"
      },
      "execution_count": 307,
      "outputs": [
        {
          "output_type": "stream",
          "name": "stdout",
          "text": [
            "Chosen classes: \t\t\t ['Cucumber', 'Artichoke', 'Banana']\n",
            "\n",
            "\n",
            "Amount of predictions done: \t\t 1000\n",
            "Images per class: \t\t\t 334\n",
            "\n",
            "\n",
            "TP: \t\t\t\t\t 30\n",
            "FP: \t\t\t\t\t 83\n",
            "TN: \t\t\t\t\t 1395\n",
            "FN: \t\t\t\t\t 709\n",
            "\n",
            "\n",
            "Accuracy: \t\t\t\t 0.6427604871447903\n",
            "Precision: \t\t\t\t 0.26548672566371684\n",
            "Recall: \t\t\t\t 0.04059539918809202\n",
            "F1 score: \t\t\t\t 0.07042253521126761\n"
          ]
        }
      ]
    },
    {
      "cell_type": "markdown",
      "source": [
        "### Used a library to verify statistic calculations"
      ],
      "metadata": {
        "id": "5zYz7tqTG5Fu"
      }
    },
    {
      "cell_type": "code",
      "source": [
        "import torchmetrics"
      ],
      "metadata": {
        "id": "A29TgAvGrdnv"
      },
      "execution_count": 308,
      "outputs": []
    },
    {
      "cell_type": "code",
      "source": [
        "threshold = 0.1\n",
        "while threshold < 1:\n",
        "    predictions, targets = zip(*results_as_probabilities_with_target)\n",
        "    trg = [np.zeros(len(classes)) for x in targets]\n",
        "    for idx, arr in enumerate(trg):\n",
        "        arr[targets[idx]] = 1\n",
        "\n",
        "    predictions_tensor = torch.tensor(predictions)\n",
        "    targets_tensor = torch.tensor(trg)\n",
        "\n",
        "\n",
        "    accuracy_metric = torchmetrics.classification.MultilabelAccuracy(num_labels = 3, threshold = threshold, average = \"micro\")\n",
        "    accuracy = accuracy_metric(predictions_tensor, targets_tensor).item()\n",
        "\n",
        "    precision_metric = torchmetrics.classification.MultilabelPrecision(num_labels = 3, threshold = threshold, average = \"micro\")\n",
        "    precision = precision_metric(predictions_tensor, targets_tensor).item()\n",
        "\n",
        "    recall_metric = torchmetrics.classification.MultilabelRecall(num_labels = 3, threshold = threshold, average = \"micro\")\n",
        "    recall = recall_metric(predictions_tensor, targets_tensor).item()\n",
        "\n",
        "    f1_metric = torchmetrics.classification.MultilabelF1Score(num_labels = 3, threshold = threshold, average = \"micro\")\n",
        "    f1 = f1_metric(predictions_tensor, targets_tensor).item()\n",
        "\n",
        "    print(\"Accuracy:\", accuracy)\n",
        "    print(\"Precision:\", precision)\n",
        "    print(\"Recall:\", recall)\n",
        "    print(\"F1 score:\", f1)\n",
        "    print(\"\\n\")\n",
        "    threshold += 0.1"
      ],
      "metadata": {
        "id": "9utyPhDFrbsi",
        "outputId": "c171f553-ad1a-426d-e8e1-3f0d8c57e9f4",
        "colab": {
          "base_uri": "https://localhost:8080/"
        }
      },
      "execution_count": 309,
      "outputs": [
        {
          "output_type": "stream",
          "name": "stdout",
          "text": [
            "Accuracy: 0.6391519904136658\n",
            "Precision: 0.27407407760620117\n",
            "Recall: 0.050067659467458725\n",
            "F1 score: 0.08466818928718567\n",
            "\n",
            "\n",
            "Accuracy: 0.6423094272613525\n",
            "Precision: 0.2857142984867096\n",
            "Recall: 0.04871447756886482\n",
            "F1 score: 0.08323699235916138\n",
            "\n",
            "\n",
            "Accuracy: 0.6427605152130127\n",
            "Precision: 0.28099173307418823\n",
            "Recall: 0.046008117496967316\n",
            "F1 score: 0.07906977087259293\n",
            "\n",
            "\n",
            "Accuracy: 0.6427605152130127\n",
            "Precision: 0.2735042870044708\n",
            "Recall: 0.04330175742506981\n",
            "F1 score: 0.07476635277271271\n",
            "\n",
            "\n",
            "Accuracy: 0.6427605152130127\n",
            "Precision: 0.2654867172241211\n",
            "Recall: 0.0405953973531723\n",
            "F1 score: 0.07042253762483597\n",
            "\n",
            "\n",
            "Accuracy: 0.6432115435600281\n",
            "Precision: 0.25925925374031067\n",
            "Recall: 0.037889041006565094\n",
            "F1 score: 0.06611569970846176\n",
            "\n",
            "\n",
            "Accuracy: 0.6450157761573792\n",
            "Precision: 0.26923078298568726\n",
            "Recall: 0.037889041006565094\n",
            "F1 score: 0.06642942130565643\n",
            "\n",
            "\n",
            "Accuracy: 0.6459178924560547\n",
            "Precision: 0.27450981736183167\n",
            "Recall: 0.037889041006565094\n",
            "F1 score: 0.06658739596605301\n",
            "\n",
            "\n",
            "Accuracy: 0.6486242413520813\n",
            "Precision: 0.28723403811454773\n",
            "Recall: 0.03653585910797119\n",
            "F1 score: 0.06482592970132828\n",
            "\n",
            "\n",
            "Accuracy: 0.6666666865348816\n",
            "Precision: 0.0\n",
            "Recall: 0.0\n",
            "F1 score: 0.0\n",
            "\n",
            "\n"
          ]
        }
      ]
    }
  ]
}