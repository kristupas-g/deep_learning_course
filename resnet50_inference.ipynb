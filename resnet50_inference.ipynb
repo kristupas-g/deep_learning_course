{
  "nbformat": 4,
  "nbformat_minor": 0,
  "metadata": {
    "colab": {
      "provenance": [],
      "collapsed_sections": [
        "6Em4FO0VJaix",
        "pZis28bY368L",
        "V2yGPCGQ61iE",
        "MtoDOWAK9mvT",
        "2ZbsS7fE72BE",
        "_-gsrqL8BWTs",
        "o39VlC89Ejjr",
        "DSSSO9ZBIPvo",
        "pExAwRhUdC04",
        "CD6dkD0Hh-ah",
        "ZdK3FNXuhInI",
        "1XMyqYByhs_C",
        "2IkzbQ4xiq7C"
      ],
      "authorship_tag": "ABX9TyP5utnagKm56b+I4c8P8fWr",
      "include_colab_link": true
    },
    "kernelspec": {
      "name": "python3",
      "display_name": "Python 3"
    },
    "language_info": {
      "name": "python"
    },
    "accelerator": "GPU",
    "gpuClass": "standard"
  },
  "cells": [
    {
      "cell_type": "markdown",
      "metadata": {
        "id": "view-in-github",
        "colab_type": "text"
      },
      "source": [
        "<a href=\"https://colab.research.google.com/github/kristupas-g/deep_learning_course/blob/main/resnet50_inference.ipynb\" target=\"_parent\"><img src=\"https://colab.research.google.com/assets/colab-badge.svg\" alt=\"Open In Colab\"/></a>"
      ]
    },
    {
      "cell_type": "markdown",
      "source": [
        "# Deep learning course first task\n",
        "\n",
        "Student: **Kristupas Gaidys** *(2015973)*\n",
        "\n",
        "Model: **resnet50**\n",
        "\n",
        "Classes: **broccoli**, **hotdog**, **zucchini**\n",
        "\n",
        "--- "
      ],
      "metadata": {
        "id": "SKXwprnVq3bJ"
      }
    },
    {
      "cell_type": "markdown",
      "source": [
        "## Configuration"
      ],
      "metadata": {
        "id": "6Em4FO0VJaix"
      }
    },
    {
      "cell_type": "code",
      "source": [
        "!pip install openimages"
      ],
      "metadata": {
        "id": "8T7NmQHjJgUi",
        "colab": {
          "base_uri": "https://localhost:8080/"
        },
        "outputId": "b8870d6d-20fa-4f2a-faca-0d8cee443c36"
      },
      "execution_count": 29,
      "outputs": [
        {
          "output_type": "stream",
          "name": "stdout",
          "text": [
            "Looking in indexes: https://pypi.org/simple, https://us-python.pkg.dev/colab-wheels/public/simple/\n",
            "Requirement already satisfied: openimages in /usr/local/lib/python3.8/dist-packages (0.0.1)\n",
            "Requirement already satisfied: pandas in /usr/local/lib/python3.8/dist-packages (from openimages) (1.3.5)\n",
            "Requirement already satisfied: cvdata in /usr/local/lib/python3.8/dist-packages (from openimages) (0.0.3)\n",
            "Requirement already satisfied: lxml in /usr/local/lib/python3.8/dist-packages (from openimages) (4.9.2)\n",
            "Requirement already satisfied: tqdm in /usr/local/lib/python3.8/dist-packages (from openimages) (4.64.1)\n",
            "Requirement already satisfied: boto3 in /usr/local/lib/python3.8/dist-packages (from openimages) (1.26.76)\n",
            "Requirement already satisfied: requests in /usr/local/lib/python3.8/dist-packages (from openimages) (2.25.1)\n",
            "Requirement already satisfied: jmespath<2.0.0,>=0.7.1 in /usr/local/lib/python3.8/dist-packages (from boto3->openimages) (1.0.1)\n",
            "Requirement already satisfied: s3transfer<0.7.0,>=0.6.0 in /usr/local/lib/python3.8/dist-packages (from boto3->openimages) (0.6.0)\n",
            "Requirement already satisfied: botocore<1.30.0,>=1.29.76 in /usr/local/lib/python3.8/dist-packages (from boto3->openimages) (1.29.76)\n",
            "Requirement already satisfied: opencv-python in /usr/local/lib/python3.8/dist-packages (from cvdata->openimages) (4.6.0.66)\n",
            "Requirement already satisfied: pillow in /usr/local/lib/python3.8/dist-packages (from cvdata->openimages) (7.1.2)\n",
            "Requirement already satisfied: numpy in /usr/local/lib/python3.8/dist-packages (from cvdata->openimages) (1.21.6)\n",
            "Requirement already satisfied: python-dateutil>=2.7.3 in /usr/local/lib/python3.8/dist-packages (from pandas->openimages) (2.8.2)\n",
            "Requirement already satisfied: pytz>=2017.3 in /usr/local/lib/python3.8/dist-packages (from pandas->openimages) (2022.7.1)\n",
            "Requirement already satisfied: idna<3,>=2.5 in /usr/local/lib/python3.8/dist-packages (from requests->openimages) (2.10)\n",
            "Requirement already satisfied: urllib3<1.27,>=1.21.1 in /usr/local/lib/python3.8/dist-packages (from requests->openimages) (1.26.14)\n",
            "Requirement already satisfied: certifi>=2017.4.17 in /usr/local/lib/python3.8/dist-packages (from requests->openimages) (2022.12.7)\n",
            "Requirement already satisfied: chardet<5,>=3.0.2 in /usr/local/lib/python3.8/dist-packages (from requests->openimages) (4.0.0)\n",
            "Requirement already satisfied: six>=1.5 in /usr/local/lib/python3.8/dist-packages (from python-dateutil>=2.7.3->pandas->openimages) (1.15.0)\n"
          ]
        }
      ]
    },
    {
      "cell_type": "code",
      "source": [
        "import torch\n",
        "device = torch.device(\"cuda\" if torch.cuda.is_available() else \"cpu\")"
      ],
      "metadata": {
        "id": "ZvLM5vanmmpO"
      },
      "execution_count": 30,
      "outputs": []
    },
    {
      "cell_type": "markdown",
      "source": [
        "## Downloading data"
      ],
      "metadata": {
        "id": "pZis28bY368L"
      }
    },
    {
      "cell_type": "code",
      "source": [
        "from os import path, makedirs\n",
        "from math import ceil\n",
        "from openimages.download import download_dataset"
      ],
      "metadata": {
        "id": "DjST7MxSab7w"
      },
      "execution_count": 31,
      "outputs": []
    },
    {
      "cell_type": "code",
      "source": [
        "amount_to_classify = 1000\n",
        "data_dir = \"data\"\n",
        "images_per_class = ceil(amount_to_classify/3)\n",
        "classes = [\"Broccoli\", \"Pizza\", \"Banana\"]"
      ],
      "metadata": {
        "id": "LT3hD7KDadb5"
      },
      "execution_count": 32,
      "outputs": []
    },
    {
      "cell_type": "code",
      "source": [
        "if not path.exists(data_dir):\n",
        "    makedirs(data_dir)"
      ],
      "metadata": {
        "id": "-FsW7_6uader"
      },
      "execution_count": 33,
      "outputs": []
    },
    {
      "cell_type": "code",
      "source": [
        "download_dataset(data_dir, classes, limit=images_per_class)"
      ],
      "metadata": {
        "id": "pePq489aah1w",
        "colab": {
          "base_uri": "https://localhost:8080/"
        },
        "outputId": "812f17bc-a018-40dc-f9f7-8f169969ad32"
      },
      "execution_count": 34,
      "outputs": [
        {
          "output_type": "stream",
          "name": "stderr",
          "text": [
            "100%|██████████| 161/161 [00:10<00:00, 15.28it/s]\n",
            "100%|██████████| 334/334 [00:20<00:00, 16.02it/s]\n",
            "100%|██████████| 334/334 [00:19<00:00, 17.10it/s]\n",
            "100%|██████████| 10/10 [00:02<00:00,  4.27it/s]\n",
            "100%|██████████| 39/39 [00:04<00:00,  9.17it/s]\n"
          ]
        },
        {
          "output_type": "execute_result",
          "data": {
            "text/plain": [
              "{'broccoli': {'images_dir': 'data/broccoli/images'},\n",
              " 'pizza': {'images_dir': 'data/pizza/images'},\n",
              " 'banana': {'images_dir': 'data/banana/images'}}"
            ]
          },
          "metadata": {},
          "execution_count": 34
        }
      ]
    },
    {
      "cell_type": "markdown",
      "source": [
        "## Custom Dataset class"
      ],
      "metadata": {
        "id": "V2yGPCGQ61iE"
      }
    },
    {
      "cell_type": "code",
      "source": [
        "from torchvision.io import read_image\n",
        "from torch.utils.data.dataset import Dataset\n",
        "from glob import glob"
      ],
      "metadata": {
        "id": "jlbA--l97b54"
      },
      "execution_count": 35,
      "outputs": []
    },
    {
      "cell_type": "code",
      "source": [
        "class ClassificationDataset(Dataset):\n",
        "    def __init__(self,image_dir,transforms = None):\n",
        "        self.transforms = transforms\n",
        "        self.image_dir = image_dir\n",
        "\n",
        "\n",
        "        self.files = glob(image_dir + \"**/*.jpg\", recursive=True) \n",
        "        \n",
        "        \n",
        "    def __getitem__(self, index):\n",
        "        image_dir = self.files[index]\n",
        "        image_tensor = read_image(image_dir).float()\n",
        "\n",
        "        to_rgb = transforms.Lambda(lambda x: x.repeat(3, 1, 1) if x.size(0)==1 else x)\n",
        "        image_tensor = to_rgb(image_tensor)\n",
        " \n",
        "        if self.transforms is not None:\n",
        "            image_tensor = self.transforms(image_tensor)\n",
        "\n",
        "        class_name = image_dir.split(\"/\")[1]\n",
        "        label = torch.tensor([x.lower() for x in classes].index(class_name))\n",
        "\n",
        "        image_tensor, label = image_tensor.to(device), label.to(device)\n",
        "\n",
        "        return (image_tensor, label)    \n",
        "\n",
        "\n",
        "    def __len__(self):\n",
        "        return len(self.files)"
      ],
      "metadata": {
        "id": "RXyIaxouF3yf"
      },
      "execution_count": 36,
      "outputs": []
    },
    {
      "cell_type": "markdown",
      "source": [
        "## Model initialization\n"
      ],
      "metadata": {
        "id": "MtoDOWAK9mvT"
      }
    },
    {
      "cell_type": "code",
      "source": [
        "from torchvision.models import resnet50, ResNet50_Weights "
      ],
      "metadata": {
        "id": "3GSzD3479qyK"
      },
      "execution_count": 37,
      "outputs": []
    },
    {
      "cell_type": "code",
      "source": [
        "weights = ResNet50_Weights.DEFAULT\n",
        "\n",
        "model = resnet50(weights = weights)\n",
        "model.eval().to(device)"
      ],
      "metadata": {
        "colab": {
          "base_uri": "https://localhost:8080/"
        },
        "id": "G79adtrX9z5_",
        "outputId": "302c34ec-8fb7-488b-a4e7-eade25318e25"
      },
      "execution_count": 38,
      "outputs": [
        {
          "output_type": "execute_result",
          "data": {
            "text/plain": [
              "ResNet(\n",
              "  (conv1): Conv2d(3, 64, kernel_size=(7, 7), stride=(2, 2), padding=(3, 3), bias=False)\n",
              "  (bn1): BatchNorm2d(64, eps=1e-05, momentum=0.1, affine=True, track_running_stats=True)\n",
              "  (relu): ReLU(inplace=True)\n",
              "  (maxpool): MaxPool2d(kernel_size=3, stride=2, padding=1, dilation=1, ceil_mode=False)\n",
              "  (layer1): Sequential(\n",
              "    (0): Bottleneck(\n",
              "      (conv1): Conv2d(64, 64, kernel_size=(1, 1), stride=(1, 1), bias=False)\n",
              "      (bn1): BatchNorm2d(64, eps=1e-05, momentum=0.1, affine=True, track_running_stats=True)\n",
              "      (conv2): Conv2d(64, 64, kernel_size=(3, 3), stride=(1, 1), padding=(1, 1), bias=False)\n",
              "      (bn2): BatchNorm2d(64, eps=1e-05, momentum=0.1, affine=True, track_running_stats=True)\n",
              "      (conv3): Conv2d(64, 256, kernel_size=(1, 1), stride=(1, 1), bias=False)\n",
              "      (bn3): BatchNorm2d(256, eps=1e-05, momentum=0.1, affine=True, track_running_stats=True)\n",
              "      (relu): ReLU(inplace=True)\n",
              "      (downsample): Sequential(\n",
              "        (0): Conv2d(64, 256, kernel_size=(1, 1), stride=(1, 1), bias=False)\n",
              "        (1): BatchNorm2d(256, eps=1e-05, momentum=0.1, affine=True, track_running_stats=True)\n",
              "      )\n",
              "    )\n",
              "    (1): Bottleneck(\n",
              "      (conv1): Conv2d(256, 64, kernel_size=(1, 1), stride=(1, 1), bias=False)\n",
              "      (bn1): BatchNorm2d(64, eps=1e-05, momentum=0.1, affine=True, track_running_stats=True)\n",
              "      (conv2): Conv2d(64, 64, kernel_size=(3, 3), stride=(1, 1), padding=(1, 1), bias=False)\n",
              "      (bn2): BatchNorm2d(64, eps=1e-05, momentum=0.1, affine=True, track_running_stats=True)\n",
              "      (conv3): Conv2d(64, 256, kernel_size=(1, 1), stride=(1, 1), bias=False)\n",
              "      (bn3): BatchNorm2d(256, eps=1e-05, momentum=0.1, affine=True, track_running_stats=True)\n",
              "      (relu): ReLU(inplace=True)\n",
              "    )\n",
              "    (2): Bottleneck(\n",
              "      (conv1): Conv2d(256, 64, kernel_size=(1, 1), stride=(1, 1), bias=False)\n",
              "      (bn1): BatchNorm2d(64, eps=1e-05, momentum=0.1, affine=True, track_running_stats=True)\n",
              "      (conv2): Conv2d(64, 64, kernel_size=(3, 3), stride=(1, 1), padding=(1, 1), bias=False)\n",
              "      (bn2): BatchNorm2d(64, eps=1e-05, momentum=0.1, affine=True, track_running_stats=True)\n",
              "      (conv3): Conv2d(64, 256, kernel_size=(1, 1), stride=(1, 1), bias=False)\n",
              "      (bn3): BatchNorm2d(256, eps=1e-05, momentum=0.1, affine=True, track_running_stats=True)\n",
              "      (relu): ReLU(inplace=True)\n",
              "    )\n",
              "  )\n",
              "  (layer2): Sequential(\n",
              "    (0): Bottleneck(\n",
              "      (conv1): Conv2d(256, 128, kernel_size=(1, 1), stride=(1, 1), bias=False)\n",
              "      (bn1): BatchNorm2d(128, eps=1e-05, momentum=0.1, affine=True, track_running_stats=True)\n",
              "      (conv2): Conv2d(128, 128, kernel_size=(3, 3), stride=(2, 2), padding=(1, 1), bias=False)\n",
              "      (bn2): BatchNorm2d(128, eps=1e-05, momentum=0.1, affine=True, track_running_stats=True)\n",
              "      (conv3): Conv2d(128, 512, kernel_size=(1, 1), stride=(1, 1), bias=False)\n",
              "      (bn3): BatchNorm2d(512, eps=1e-05, momentum=0.1, affine=True, track_running_stats=True)\n",
              "      (relu): ReLU(inplace=True)\n",
              "      (downsample): Sequential(\n",
              "        (0): Conv2d(256, 512, kernel_size=(1, 1), stride=(2, 2), bias=False)\n",
              "        (1): BatchNorm2d(512, eps=1e-05, momentum=0.1, affine=True, track_running_stats=True)\n",
              "      )\n",
              "    )\n",
              "    (1): Bottleneck(\n",
              "      (conv1): Conv2d(512, 128, kernel_size=(1, 1), stride=(1, 1), bias=False)\n",
              "      (bn1): BatchNorm2d(128, eps=1e-05, momentum=0.1, affine=True, track_running_stats=True)\n",
              "      (conv2): Conv2d(128, 128, kernel_size=(3, 3), stride=(1, 1), padding=(1, 1), bias=False)\n",
              "      (bn2): BatchNorm2d(128, eps=1e-05, momentum=0.1, affine=True, track_running_stats=True)\n",
              "      (conv3): Conv2d(128, 512, kernel_size=(1, 1), stride=(1, 1), bias=False)\n",
              "      (bn3): BatchNorm2d(512, eps=1e-05, momentum=0.1, affine=True, track_running_stats=True)\n",
              "      (relu): ReLU(inplace=True)\n",
              "    )\n",
              "    (2): Bottleneck(\n",
              "      (conv1): Conv2d(512, 128, kernel_size=(1, 1), stride=(1, 1), bias=False)\n",
              "      (bn1): BatchNorm2d(128, eps=1e-05, momentum=0.1, affine=True, track_running_stats=True)\n",
              "      (conv2): Conv2d(128, 128, kernel_size=(3, 3), stride=(1, 1), padding=(1, 1), bias=False)\n",
              "      (bn2): BatchNorm2d(128, eps=1e-05, momentum=0.1, affine=True, track_running_stats=True)\n",
              "      (conv3): Conv2d(128, 512, kernel_size=(1, 1), stride=(1, 1), bias=False)\n",
              "      (bn3): BatchNorm2d(512, eps=1e-05, momentum=0.1, affine=True, track_running_stats=True)\n",
              "      (relu): ReLU(inplace=True)\n",
              "    )\n",
              "    (3): Bottleneck(\n",
              "      (conv1): Conv2d(512, 128, kernel_size=(1, 1), stride=(1, 1), bias=False)\n",
              "      (bn1): BatchNorm2d(128, eps=1e-05, momentum=0.1, affine=True, track_running_stats=True)\n",
              "      (conv2): Conv2d(128, 128, kernel_size=(3, 3), stride=(1, 1), padding=(1, 1), bias=False)\n",
              "      (bn2): BatchNorm2d(128, eps=1e-05, momentum=0.1, affine=True, track_running_stats=True)\n",
              "      (conv3): Conv2d(128, 512, kernel_size=(1, 1), stride=(1, 1), bias=False)\n",
              "      (bn3): BatchNorm2d(512, eps=1e-05, momentum=0.1, affine=True, track_running_stats=True)\n",
              "      (relu): ReLU(inplace=True)\n",
              "    )\n",
              "  )\n",
              "  (layer3): Sequential(\n",
              "    (0): Bottleneck(\n",
              "      (conv1): Conv2d(512, 256, kernel_size=(1, 1), stride=(1, 1), bias=False)\n",
              "      (bn1): BatchNorm2d(256, eps=1e-05, momentum=0.1, affine=True, track_running_stats=True)\n",
              "      (conv2): Conv2d(256, 256, kernel_size=(3, 3), stride=(2, 2), padding=(1, 1), bias=False)\n",
              "      (bn2): BatchNorm2d(256, eps=1e-05, momentum=0.1, affine=True, track_running_stats=True)\n",
              "      (conv3): Conv2d(256, 1024, kernel_size=(1, 1), stride=(1, 1), bias=False)\n",
              "      (bn3): BatchNorm2d(1024, eps=1e-05, momentum=0.1, affine=True, track_running_stats=True)\n",
              "      (relu): ReLU(inplace=True)\n",
              "      (downsample): Sequential(\n",
              "        (0): Conv2d(512, 1024, kernel_size=(1, 1), stride=(2, 2), bias=False)\n",
              "        (1): BatchNorm2d(1024, eps=1e-05, momentum=0.1, affine=True, track_running_stats=True)\n",
              "      )\n",
              "    )\n",
              "    (1): Bottleneck(\n",
              "      (conv1): Conv2d(1024, 256, kernel_size=(1, 1), stride=(1, 1), bias=False)\n",
              "      (bn1): BatchNorm2d(256, eps=1e-05, momentum=0.1, affine=True, track_running_stats=True)\n",
              "      (conv2): Conv2d(256, 256, kernel_size=(3, 3), stride=(1, 1), padding=(1, 1), bias=False)\n",
              "      (bn2): BatchNorm2d(256, eps=1e-05, momentum=0.1, affine=True, track_running_stats=True)\n",
              "      (conv3): Conv2d(256, 1024, kernel_size=(1, 1), stride=(1, 1), bias=False)\n",
              "      (bn3): BatchNorm2d(1024, eps=1e-05, momentum=0.1, affine=True, track_running_stats=True)\n",
              "      (relu): ReLU(inplace=True)\n",
              "    )\n",
              "    (2): Bottleneck(\n",
              "      (conv1): Conv2d(1024, 256, kernel_size=(1, 1), stride=(1, 1), bias=False)\n",
              "      (bn1): BatchNorm2d(256, eps=1e-05, momentum=0.1, affine=True, track_running_stats=True)\n",
              "      (conv2): Conv2d(256, 256, kernel_size=(3, 3), stride=(1, 1), padding=(1, 1), bias=False)\n",
              "      (bn2): BatchNorm2d(256, eps=1e-05, momentum=0.1, affine=True, track_running_stats=True)\n",
              "      (conv3): Conv2d(256, 1024, kernel_size=(1, 1), stride=(1, 1), bias=False)\n",
              "      (bn3): BatchNorm2d(1024, eps=1e-05, momentum=0.1, affine=True, track_running_stats=True)\n",
              "      (relu): ReLU(inplace=True)\n",
              "    )\n",
              "    (3): Bottleneck(\n",
              "      (conv1): Conv2d(1024, 256, kernel_size=(1, 1), stride=(1, 1), bias=False)\n",
              "      (bn1): BatchNorm2d(256, eps=1e-05, momentum=0.1, affine=True, track_running_stats=True)\n",
              "      (conv2): Conv2d(256, 256, kernel_size=(3, 3), stride=(1, 1), padding=(1, 1), bias=False)\n",
              "      (bn2): BatchNorm2d(256, eps=1e-05, momentum=0.1, affine=True, track_running_stats=True)\n",
              "      (conv3): Conv2d(256, 1024, kernel_size=(1, 1), stride=(1, 1), bias=False)\n",
              "      (bn3): BatchNorm2d(1024, eps=1e-05, momentum=0.1, affine=True, track_running_stats=True)\n",
              "      (relu): ReLU(inplace=True)\n",
              "    )\n",
              "    (4): Bottleneck(\n",
              "      (conv1): Conv2d(1024, 256, kernel_size=(1, 1), stride=(1, 1), bias=False)\n",
              "      (bn1): BatchNorm2d(256, eps=1e-05, momentum=0.1, affine=True, track_running_stats=True)\n",
              "      (conv2): Conv2d(256, 256, kernel_size=(3, 3), stride=(1, 1), padding=(1, 1), bias=False)\n",
              "      (bn2): BatchNorm2d(256, eps=1e-05, momentum=0.1, affine=True, track_running_stats=True)\n",
              "      (conv3): Conv2d(256, 1024, kernel_size=(1, 1), stride=(1, 1), bias=False)\n",
              "      (bn3): BatchNorm2d(1024, eps=1e-05, momentum=0.1, affine=True, track_running_stats=True)\n",
              "      (relu): ReLU(inplace=True)\n",
              "    )\n",
              "    (5): Bottleneck(\n",
              "      (conv1): Conv2d(1024, 256, kernel_size=(1, 1), stride=(1, 1), bias=False)\n",
              "      (bn1): BatchNorm2d(256, eps=1e-05, momentum=0.1, affine=True, track_running_stats=True)\n",
              "      (conv2): Conv2d(256, 256, kernel_size=(3, 3), stride=(1, 1), padding=(1, 1), bias=False)\n",
              "      (bn2): BatchNorm2d(256, eps=1e-05, momentum=0.1, affine=True, track_running_stats=True)\n",
              "      (conv3): Conv2d(256, 1024, kernel_size=(1, 1), stride=(1, 1), bias=False)\n",
              "      (bn3): BatchNorm2d(1024, eps=1e-05, momentum=0.1, affine=True, track_running_stats=True)\n",
              "      (relu): ReLU(inplace=True)\n",
              "    )\n",
              "  )\n",
              "  (layer4): Sequential(\n",
              "    (0): Bottleneck(\n",
              "      (conv1): Conv2d(1024, 512, kernel_size=(1, 1), stride=(1, 1), bias=False)\n",
              "      (bn1): BatchNorm2d(512, eps=1e-05, momentum=0.1, affine=True, track_running_stats=True)\n",
              "      (conv2): Conv2d(512, 512, kernel_size=(3, 3), stride=(2, 2), padding=(1, 1), bias=False)\n",
              "      (bn2): BatchNorm2d(512, eps=1e-05, momentum=0.1, affine=True, track_running_stats=True)\n",
              "      (conv3): Conv2d(512, 2048, kernel_size=(1, 1), stride=(1, 1), bias=False)\n",
              "      (bn3): BatchNorm2d(2048, eps=1e-05, momentum=0.1, affine=True, track_running_stats=True)\n",
              "      (relu): ReLU(inplace=True)\n",
              "      (downsample): Sequential(\n",
              "        (0): Conv2d(1024, 2048, kernel_size=(1, 1), stride=(2, 2), bias=False)\n",
              "        (1): BatchNorm2d(2048, eps=1e-05, momentum=0.1, affine=True, track_running_stats=True)\n",
              "      )\n",
              "    )\n",
              "    (1): Bottleneck(\n",
              "      (conv1): Conv2d(2048, 512, kernel_size=(1, 1), stride=(1, 1), bias=False)\n",
              "      (bn1): BatchNorm2d(512, eps=1e-05, momentum=0.1, affine=True, track_running_stats=True)\n",
              "      (conv2): Conv2d(512, 512, kernel_size=(3, 3), stride=(1, 1), padding=(1, 1), bias=False)\n",
              "      (bn2): BatchNorm2d(512, eps=1e-05, momentum=0.1, affine=True, track_running_stats=True)\n",
              "      (conv3): Conv2d(512, 2048, kernel_size=(1, 1), stride=(1, 1), bias=False)\n",
              "      (bn3): BatchNorm2d(2048, eps=1e-05, momentum=0.1, affine=True, track_running_stats=True)\n",
              "      (relu): ReLU(inplace=True)\n",
              "    )\n",
              "    (2): Bottleneck(\n",
              "      (conv1): Conv2d(2048, 512, kernel_size=(1, 1), stride=(1, 1), bias=False)\n",
              "      (bn1): BatchNorm2d(512, eps=1e-05, momentum=0.1, affine=True, track_running_stats=True)\n",
              "      (conv2): Conv2d(512, 512, kernel_size=(3, 3), stride=(1, 1), padding=(1, 1), bias=False)\n",
              "      (bn2): BatchNorm2d(512, eps=1e-05, momentum=0.1, affine=True, track_running_stats=True)\n",
              "      (conv3): Conv2d(512, 2048, kernel_size=(1, 1), stride=(1, 1), bias=False)\n",
              "      (bn3): BatchNorm2d(2048, eps=1e-05, momentum=0.1, affine=True, track_running_stats=True)\n",
              "      (relu): ReLU(inplace=True)\n",
              "    )\n",
              "  )\n",
              "  (avgpool): AdaptiveAvgPool2d(output_size=(1, 1))\n",
              "  (fc): Linear(in_features=2048, out_features=1000, bias=True)\n",
              ")"
            ]
          },
          "metadata": {},
          "execution_count": 38
        }
      ]
    },
    {
      "cell_type": "markdown",
      "source": [
        "## Dataloader\n"
      ],
      "metadata": {
        "id": "2ZbsS7fE72BE"
      }
    },
    {
      "cell_type": "code",
      "source": [
        "from torch.utils.data import DataLoader\n",
        "import torchvision.transforms as transforms"
      ],
      "metadata": {
        "id": "ZKVfAds174op"
      },
      "execution_count": 39,
      "outputs": []
    },
    {
      "cell_type": "code",
      "source": [
        "transform = weights.transforms()"
      ],
      "metadata": {
        "id": "-HreVoJKOcC5"
      },
      "execution_count": 40,
      "outputs": []
    },
    {
      "cell_type": "code",
      "source": [
        "dataset = ClassificationDataset(\"data/\", transforms = transform)\n",
        "batchsize = 32\n",
        "workers = 3\n",
        "\n",
        "dataloader = DataLoader(\n",
        "    dataset,\n",
        "    batch_size = batchsize,\n",
        "    #num_workers = workers \n",
        ")"
      ],
      "metadata": {
        "id": "jjwn8KHJ7_9g"
      },
      "execution_count": 41,
      "outputs": []
    },
    {
      "cell_type": "markdown",
      "source": [
        "## Performing inference"
      ],
      "metadata": {
        "id": "_-gsrqL8BWTs"
      }
    },
    {
      "cell_type": "markdown",
      "source": [
        "*class_idx* is a list of indexes of our chosen classes in the model"
      ],
      "metadata": {
        "id": "mWrkaKLok0lG"
      }
    },
    {
      "cell_type": "code",
      "source": [
        "models_classes = weights.meta[\"categories\"]\n",
        "\n",
        "class_idx = [models_classes.index(chosen_class.lower()) for chosen_class in classes]"
      ],
      "metadata": {
        "id": "1ESPBf_DkoxZ"
      },
      "execution_count": 42,
      "outputs": []
    },
    {
      "cell_type": "code",
      "source": [
        "results_as_probabilities_with_target = []\n",
        "\n",
        "for _, (data, target) in enumerate(dataloader):\n",
        "    prediction = model(data).sigmoid()\n",
        "    \n",
        "    for image_idx, class_predictions in enumerate(prediction):\n",
        "        chosen_class_predictions = [class_predictions[idx].item() for idx in class_idx]\n",
        "        actual_class = target[image_idx].item()\n",
        "        results_as_probabilities_with_target.append((chosen_class_predictions, actual_class))"
      ],
      "metadata": {
        "id": "UuAq92HtBZ_G"
      },
      "execution_count": 43,
      "outputs": []
    },
    {
      "cell_type": "markdown",
      "source": [
        "*results_as_probabilities_with_target* variable holds a tuple where the first element is an array of our class probabilities and the second element of the tuple is the index of the actuall class."
      ],
      "metadata": {
        "id": "l1cMK7uFEpnC"
      }
    },
    {
      "cell_type": "markdown",
      "source": [
        "## Result interpretation"
      ],
      "metadata": {
        "id": "o39VlC89Ejjr"
      }
    },
    {
      "cell_type": "markdown",
      "source": [
        "### Baseline thresholds"
      ],
      "metadata": {
        "id": "y9FCNEBOFFQ-"
      }
    },
    {
      "cell_type": "code",
      "source": [
        "# List of class probabilities without the target\n",
        "results_as_probabilities = [x[0] for x in results_as_probabilities_with_target]    "
      ],
      "metadata": {
        "id": "CTClOAJVJGAi"
      },
      "execution_count": 44,
      "outputs": []
    },
    {
      "cell_type": "markdown",
      "source": [
        "Calculating a baseline threshold for our classes. Threshold will just be a mean of the predictions"
      ],
      "metadata": {
        "id": "OJFelEEaL6lW"
      }
    },
    {
      "cell_type": "code",
      "source": [
        "import numpy as np"
      ],
      "metadata": {
        "id": "joATon4JH1fq"
      },
      "execution_count": 45,
      "outputs": []
    },
    {
      "cell_type": "code",
      "source": [
        "thresholds = np.zeros(len(classes))\n",
        "\n",
        "for class_probabilities in results_as_probabilities: \n",
        "    for idx, value in enumerate(class_probabilities):\n",
        "        thresholds[idx] += value\n",
        "\n",
        "thresholds = [prob_sum / images_per_class for prob_sum in thresholds] \n",
        "\n",
        "print(thresholds)"
      ],
      "metadata": {
        "colab": {
          "base_uri": "https://localhost:8080/"
        },
        "id": "0EMk-kBPEmic",
        "outputId": "fdeb482d-4272-4de2-8d7d-479f52fb6e94"
      },
      "execution_count": 46,
      "outputs": [
        {
          "output_type": "stream",
          "name": "stdout",
          "text": [
            "[0.8897708259392235, 8.947452093471244e-12, 0.0993574814020403]\n"
          ]
        }
      ]
    },
    {
      "cell_type": "markdown",
      "source": [
        "### Comparing results to threshold values"
      ],
      "metadata": {
        "id": "DSSSO9ZBIPvo"
      }
    },
    {
      "cell_type": "markdown",
      "source": [
        "*results_as_booleans* is a list which contains lists of boolean values that describe if the class was detected in the image"
      ],
      "metadata": {
        "id": "cx3cW_0HL23Q"
      }
    },
    {
      "cell_type": "code",
      "source": [
        "results_as_booleans = []\n",
        "\n",
        "for class_probabilities in results_as_probabilities:\n",
        "    image_booleans = []\n",
        "    for class_idx, class_probability in enumerate(class_probabilities):\n",
        "        verdict = class_probability >= thresholds[class_idx]\n",
        "        image_booleans.append(int(verdict))\n",
        "    results_as_booleans.append(image_booleans)"
      ],
      "metadata": {
        "id": "zR-hmnCLImLC"
      },
      "execution_count": 47,
      "outputs": []
    },
    {
      "cell_type": "markdown",
      "source": [
        "*results_as_booleans_with_target* is a list of tuples where the first element is an array of booleans and the second element is the index of the class that we are expecting"
      ],
      "metadata": {
        "id": "sYZZO5uaNyeS"
      }
    },
    {
      "cell_type": "code",
      "source": [
        "results_as_booleans_with_target = []\n",
        "\n",
        "for idx in range(len(results_as_probabilities_with_target)):\n",
        "    booleans_with_target = (results_as_booleans[idx], results_as_probabilities_with_target[idx][1])\n",
        "    results_as_booleans_with_target.append(booleans_with_target) "
      ],
      "metadata": {
        "id": "xjpuYu_3PDpE"
      },
      "execution_count": 48,
      "outputs": []
    },
    {
      "cell_type": "markdown",
      "source": [
        "### Calculating TP, FP, TN, FN"
      ],
      "metadata": {
        "id": "pExAwRhUdC04"
      }
    },
    {
      "cell_type": "code",
      "source": [
        "true_positives = 0\n",
        "false_positives = 0\n",
        "true_negatives = 0\n",
        "false_negatives = 0"
      ],
      "metadata": {
        "id": "4XCDJLtidKz7"
      },
      "execution_count": 49,
      "outputs": []
    },
    {
      "cell_type": "code",
      "source": [
        "for predictions, target_idx in results_as_booleans_with_target:\n",
        "    for idx, prediction in enumerate(predictions):\n",
        "        # Positives\n",
        "        if prediction == 1 and idx == target_idx:\n",
        "            true_positives += 1\n",
        "        if prediction == 1 and idx != target_idx:\n",
        "            false_positives += 1\n",
        "            \n",
        "        # Negatives\n",
        "        if prediction == 0 and idx != target_idx:\n",
        "            true_negatives += 1\n",
        "        if prediction == 0 and idx == target_idx:\n",
        "            false_negatives += 1"
      ],
      "metadata": {
        "id": "FvBcInZJdbZY"
      },
      "execution_count": 50,
      "outputs": []
    },
    {
      "cell_type": "markdown",
      "source": [
        "### Calculating *accuracy*"
      ],
      "metadata": {
        "id": "CD6dkD0Hh-ah"
      }
    },
    {
      "cell_type": "markdown",
      "source": [
        "**Accuracy = (TP + TN) / (TP + TN + FP + FN)**"
      ],
      "metadata": {
        "id": "4o0vCnefiCGl"
      }
    },
    {
      "cell_type": "code",
      "source": [
        "accuracy = (true_positives + true_negatives) / \\\n",
        "    (true_positives + true_negatives + false_positives + false_negatives)"
      ],
      "metadata": {
        "id": "yqF69WSsiPGG"
      },
      "execution_count": 51,
      "outputs": []
    },
    {
      "cell_type": "markdown",
      "source": [
        "### Calculating *precision*"
      ],
      "metadata": {
        "id": "ZdK3FNXuhInI"
      }
    },
    {
      "cell_type": "markdown",
      "source": [
        "**Precision = TP / (TP + FP)**"
      ],
      "metadata": {
        "id": "794GE8hghQbY"
      }
    },
    {
      "cell_type": "code",
      "source": [
        "precision = true_positives / (true_positives + false_positives)"
      ],
      "metadata": {
        "id": "tG87RW9ThPwZ"
      },
      "execution_count": 52,
      "outputs": []
    },
    {
      "cell_type": "markdown",
      "source": [
        "### Calculating *recall*"
      ],
      "metadata": {
        "id": "1XMyqYByhs_C"
      }
    },
    {
      "cell_type": "markdown",
      "source": [
        "**Recall = TP / (TP + FN)**"
      ],
      "metadata": {
        "id": "V06QLkZNhvnS"
      }
    },
    {
      "cell_type": "code",
      "source": [
        "recall = true_positives / (true_positives + false_negatives)"
      ],
      "metadata": {
        "id": "JqpJ0mHrhxM-"
      },
      "execution_count": 53,
      "outputs": []
    },
    {
      "cell_type": "markdown",
      "source": [
        "### Calculating *F1 score*"
      ],
      "metadata": {
        "id": "2IkzbQ4xiq7C"
      }
    },
    {
      "cell_type": "markdown",
      "source": [
        "**F1 score = 2 * (precision * recall) / (precision + recall)**"
      ],
      "metadata": {
        "id": "uytr4t8livY0"
      }
    },
    {
      "cell_type": "code",
      "source": [
        "f1 = 2 * (precision * recall) / (precision + recall)"
      ],
      "metadata": {
        "id": "GrvCO1eeizxk"
      },
      "execution_count": 54,
      "outputs": []
    },
    {
      "cell_type": "markdown",
      "source": [
        "## Generating report"
      ],
      "metadata": {
        "id": "Wc6pZS5Hi-kL"
      }
    },
    {
      "cell_type": "code",
      "source": [
        "print(\"Chosen classes: \\t\\t\\t\", classes)\n",
        "print(\"\\n\")\n",
        "\n",
        "print(\"Amount of predictions done: \\t\\t\", amount_to_classify)\n",
        "print(\"Images per class: \\t\\t\\t\", images_per_class)\n",
        "print(\"\\n\")\n",
        "\n",
        "print(\"TP: \\t\\t\\t\\t\\t\", true_positives)\n",
        "print(\"FP: \\t\\t\\t\\t\\t\", false_positives)\n",
        "print(\"TN: \\t\\t\\t\\t\\t\", true_negatives)\n",
        "print(\"FN: \\t\\t\\t\\t\\t\", false_negatives)\n",
        "print(\"\\n\")\n",
        "\n",
        "print(\"Accuracy: \\t\\t\\t\\t\", accuracy)\n",
        "print(\"Precision: \\t\\t\\t\\t\", precision)\n",
        "print(\"Recall: \\t\\t\\t\\t\", recall)\n",
        "print(\"F1 score: \\t\\t\\t\\t\", f1)"
      ],
      "metadata": {
        "colab": {
          "base_uri": "https://localhost:8080/"
        },
        "id": "54ocdygvjFeE",
        "outputId": "e2ea8e46-80fc-4dcd-b2f1-b28c400f6d3f"
      },
      "execution_count": 55,
      "outputs": [
        {
          "output_type": "stream",
          "name": "stdout",
          "text": [
            "Chosen classes: \t\t\t ['Broccoli', 'Pizza', 'Banana']\n",
            "\n",
            "\n",
            "Amount of predictions done: \t\t 1000\n",
            "Images per class: \t\t\t 334\n",
            "\n",
            "\n",
            "TP: \t\t\t\t\t 81\n",
            "FP: \t\t\t\t\t 235\n",
            "TN: \t\t\t\t\t 1521\n",
            "FN: \t\t\t\t\t 797\n",
            "\n",
            "\n",
            "Accuracy: \t\t\t\t 0.6082004555808656\n",
            "Precision: \t\t\t\t 0.2563291139240506\n",
            "Recall: \t\t\t\t 0.09225512528473805\n",
            "F1 score: \t\t\t\t 0.135678391959799\n"
          ]
        }
      ]
    }
  ]
}