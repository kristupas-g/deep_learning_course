{
  "nbformat": 4,
  "nbformat_minor": 0,
  "metadata": {
    "colab": {
      "provenance": [],
      "collapsed_sections": [
        "6Em4FO0VJaix",
        "pZis28bY368L",
        "V2yGPCGQ61iE",
        "MtoDOWAK9mvT",
        "2ZbsS7fE72BE",
        "_-gsrqL8BWTs",
        "o39VlC89Ejjr",
        "DSSSO9ZBIPvo",
        "pExAwRhUdC04",
        "CD6dkD0Hh-ah",
        "ZdK3FNXuhInI",
        "1XMyqYByhs_C",
        "2IkzbQ4xiq7C"
      ],
      "authorship_tag": "ABX9TyN+8fzJgUYfWtn/dsyNOxxt",
      "include_colab_link": true
    },
    "kernelspec": {
      "name": "python3",
      "display_name": "Python 3"
    },
    "language_info": {
      "name": "python"
    },
    "accelerator": "GPU",
    "gpuClass": "standard",
    "widgets": {
      "application/vnd.jupyter.widget-state+json": {
        "4f28f9a4d8814357ba431b21ee0fe0c5": {
          "model_module": "@jupyter-widgets/controls",
          "model_name": "HBoxModel",
          "model_module_version": "1.5.0",
          "state": {
            "_dom_classes": [],
            "_model_module": "@jupyter-widgets/controls",
            "_model_module_version": "1.5.0",
            "_model_name": "HBoxModel",
            "_view_count": null,
            "_view_module": "@jupyter-widgets/controls",
            "_view_module_version": "1.5.0",
            "_view_name": "HBoxView",
            "box_style": "",
            "children": [
              "IPY_MODEL_42f1fb4342cf40768c4282a869a81571",
              "IPY_MODEL_93314d7115b24321a85104aefcc7adf3",
              "IPY_MODEL_7f3d38f007604224a3ad8d0309b3bfa4"
            ],
            "layout": "IPY_MODEL_2358f844523b466ea6d7a0360fab80fd"
          }
        },
        "42f1fb4342cf40768c4282a869a81571": {
          "model_module": "@jupyter-widgets/controls",
          "model_name": "HTMLModel",
          "model_module_version": "1.5.0",
          "state": {
            "_dom_classes": [],
            "_model_module": "@jupyter-widgets/controls",
            "_model_module_version": "1.5.0",
            "_model_name": "HTMLModel",
            "_view_count": null,
            "_view_module": "@jupyter-widgets/controls",
            "_view_module_version": "1.5.0",
            "_view_name": "HTMLView",
            "description": "",
            "description_tooltip": null,
            "layout": "IPY_MODEL_580cc17d583142cfb62bcd0de6062e0a",
            "placeholder": "​",
            "style": "IPY_MODEL_feb64c396cce48cd87e66dbdbb928dfb",
            "value": "100%"
          }
        },
        "93314d7115b24321a85104aefcc7adf3": {
          "model_module": "@jupyter-widgets/controls",
          "model_name": "FloatProgressModel",
          "model_module_version": "1.5.0",
          "state": {
            "_dom_classes": [],
            "_model_module": "@jupyter-widgets/controls",
            "_model_module_version": "1.5.0",
            "_model_name": "FloatProgressModel",
            "_view_count": null,
            "_view_module": "@jupyter-widgets/controls",
            "_view_module_version": "1.5.0",
            "_view_name": "ProgressView",
            "bar_style": "success",
            "description": "",
            "description_tooltip": null,
            "layout": "IPY_MODEL_b50cf2fd395744cc8ad6fb4ffab2b938",
            "max": 102540417,
            "min": 0,
            "orientation": "horizontal",
            "style": "IPY_MODEL_b89238621bbd4b769199537169404393",
            "value": 102540417
          }
        },
        "7f3d38f007604224a3ad8d0309b3bfa4": {
          "model_module": "@jupyter-widgets/controls",
          "model_name": "HTMLModel",
          "model_module_version": "1.5.0",
          "state": {
            "_dom_classes": [],
            "_model_module": "@jupyter-widgets/controls",
            "_model_module_version": "1.5.0",
            "_model_name": "HTMLModel",
            "_view_count": null,
            "_view_module": "@jupyter-widgets/controls",
            "_view_module_version": "1.5.0",
            "_view_name": "HTMLView",
            "description": "",
            "description_tooltip": null,
            "layout": "IPY_MODEL_773909cd79b64ea4a9da933acfaaf3b5",
            "placeholder": "​",
            "style": "IPY_MODEL_56901ada612b4eeaa9218378f8ea7646",
            "value": " 97.8M/97.8M [00:06&lt;00:00, 18.3MB/s]"
          }
        },
        "2358f844523b466ea6d7a0360fab80fd": {
          "model_module": "@jupyter-widgets/base",
          "model_name": "LayoutModel",
          "model_module_version": "1.2.0",
          "state": {
            "_model_module": "@jupyter-widgets/base",
            "_model_module_version": "1.2.0",
            "_model_name": "LayoutModel",
            "_view_count": null,
            "_view_module": "@jupyter-widgets/base",
            "_view_module_version": "1.2.0",
            "_view_name": "LayoutView",
            "align_content": null,
            "align_items": null,
            "align_self": null,
            "border": null,
            "bottom": null,
            "display": null,
            "flex": null,
            "flex_flow": null,
            "grid_area": null,
            "grid_auto_columns": null,
            "grid_auto_flow": null,
            "grid_auto_rows": null,
            "grid_column": null,
            "grid_gap": null,
            "grid_row": null,
            "grid_template_areas": null,
            "grid_template_columns": null,
            "grid_template_rows": null,
            "height": null,
            "justify_content": null,
            "justify_items": null,
            "left": null,
            "margin": null,
            "max_height": null,
            "max_width": null,
            "min_height": null,
            "min_width": null,
            "object_fit": null,
            "object_position": null,
            "order": null,
            "overflow": null,
            "overflow_x": null,
            "overflow_y": null,
            "padding": null,
            "right": null,
            "top": null,
            "visibility": null,
            "width": null
          }
        },
        "580cc17d583142cfb62bcd0de6062e0a": {
          "model_module": "@jupyter-widgets/base",
          "model_name": "LayoutModel",
          "model_module_version": "1.2.0",
          "state": {
            "_model_module": "@jupyter-widgets/base",
            "_model_module_version": "1.2.0",
            "_model_name": "LayoutModel",
            "_view_count": null,
            "_view_module": "@jupyter-widgets/base",
            "_view_module_version": "1.2.0",
            "_view_name": "LayoutView",
            "align_content": null,
            "align_items": null,
            "align_self": null,
            "border": null,
            "bottom": null,
            "display": null,
            "flex": null,
            "flex_flow": null,
            "grid_area": null,
            "grid_auto_columns": null,
            "grid_auto_flow": null,
            "grid_auto_rows": null,
            "grid_column": null,
            "grid_gap": null,
            "grid_row": null,
            "grid_template_areas": null,
            "grid_template_columns": null,
            "grid_template_rows": null,
            "height": null,
            "justify_content": null,
            "justify_items": null,
            "left": null,
            "margin": null,
            "max_height": null,
            "max_width": null,
            "min_height": null,
            "min_width": null,
            "object_fit": null,
            "object_position": null,
            "order": null,
            "overflow": null,
            "overflow_x": null,
            "overflow_y": null,
            "padding": null,
            "right": null,
            "top": null,
            "visibility": null,
            "width": null
          }
        },
        "feb64c396cce48cd87e66dbdbb928dfb": {
          "model_module": "@jupyter-widgets/controls",
          "model_name": "DescriptionStyleModel",
          "model_module_version": "1.5.0",
          "state": {
            "_model_module": "@jupyter-widgets/controls",
            "_model_module_version": "1.5.0",
            "_model_name": "DescriptionStyleModel",
            "_view_count": null,
            "_view_module": "@jupyter-widgets/base",
            "_view_module_version": "1.2.0",
            "_view_name": "StyleView",
            "description_width": ""
          }
        },
        "b50cf2fd395744cc8ad6fb4ffab2b938": {
          "model_module": "@jupyter-widgets/base",
          "model_name": "LayoutModel",
          "model_module_version": "1.2.0",
          "state": {
            "_model_module": "@jupyter-widgets/base",
            "_model_module_version": "1.2.0",
            "_model_name": "LayoutModel",
            "_view_count": null,
            "_view_module": "@jupyter-widgets/base",
            "_view_module_version": "1.2.0",
            "_view_name": "LayoutView",
            "align_content": null,
            "align_items": null,
            "align_self": null,
            "border": null,
            "bottom": null,
            "display": null,
            "flex": null,
            "flex_flow": null,
            "grid_area": null,
            "grid_auto_columns": null,
            "grid_auto_flow": null,
            "grid_auto_rows": null,
            "grid_column": null,
            "grid_gap": null,
            "grid_row": null,
            "grid_template_areas": null,
            "grid_template_columns": null,
            "grid_template_rows": null,
            "height": null,
            "justify_content": null,
            "justify_items": null,
            "left": null,
            "margin": null,
            "max_height": null,
            "max_width": null,
            "min_height": null,
            "min_width": null,
            "object_fit": null,
            "object_position": null,
            "order": null,
            "overflow": null,
            "overflow_x": null,
            "overflow_y": null,
            "padding": null,
            "right": null,
            "top": null,
            "visibility": null,
            "width": null
          }
        },
        "b89238621bbd4b769199537169404393": {
          "model_module": "@jupyter-widgets/controls",
          "model_name": "ProgressStyleModel",
          "model_module_version": "1.5.0",
          "state": {
            "_model_module": "@jupyter-widgets/controls",
            "_model_module_version": "1.5.0",
            "_model_name": "ProgressStyleModel",
            "_view_count": null,
            "_view_module": "@jupyter-widgets/base",
            "_view_module_version": "1.2.0",
            "_view_name": "StyleView",
            "bar_color": null,
            "description_width": ""
          }
        },
        "773909cd79b64ea4a9da933acfaaf3b5": {
          "model_module": "@jupyter-widgets/base",
          "model_name": "LayoutModel",
          "model_module_version": "1.2.0",
          "state": {
            "_model_module": "@jupyter-widgets/base",
            "_model_module_version": "1.2.0",
            "_model_name": "LayoutModel",
            "_view_count": null,
            "_view_module": "@jupyter-widgets/base",
            "_view_module_version": "1.2.0",
            "_view_name": "LayoutView",
            "align_content": null,
            "align_items": null,
            "align_self": null,
            "border": null,
            "bottom": null,
            "display": null,
            "flex": null,
            "flex_flow": null,
            "grid_area": null,
            "grid_auto_columns": null,
            "grid_auto_flow": null,
            "grid_auto_rows": null,
            "grid_column": null,
            "grid_gap": null,
            "grid_row": null,
            "grid_template_areas": null,
            "grid_template_columns": null,
            "grid_template_rows": null,
            "height": null,
            "justify_content": null,
            "justify_items": null,
            "left": null,
            "margin": null,
            "max_height": null,
            "max_width": null,
            "min_height": null,
            "min_width": null,
            "object_fit": null,
            "object_position": null,
            "order": null,
            "overflow": null,
            "overflow_x": null,
            "overflow_y": null,
            "padding": null,
            "right": null,
            "top": null,
            "visibility": null,
            "width": null
          }
        },
        "56901ada612b4eeaa9218378f8ea7646": {
          "model_module": "@jupyter-widgets/controls",
          "model_name": "DescriptionStyleModel",
          "model_module_version": "1.5.0",
          "state": {
            "_model_module": "@jupyter-widgets/controls",
            "_model_module_version": "1.5.0",
            "_model_name": "DescriptionStyleModel",
            "_view_count": null,
            "_view_module": "@jupyter-widgets/base",
            "_view_module_version": "1.2.0",
            "_view_name": "StyleView",
            "description_width": ""
          }
        }
      }
    }
  },
  "cells": [
    {
      "cell_type": "markdown",
      "metadata": {
        "id": "view-in-github",
        "colab_type": "text"
      },
      "source": [
        "<a href=\"https://colab.research.google.com/github/kristupas-g/deep_learning_course/blob/main/resnet50_inference.ipynb\" target=\"_parent\"><img src=\"https://colab.research.google.com/assets/colab-badge.svg\" alt=\"Open In Colab\"/></a>"
      ]
    },
    {
      "cell_type": "markdown",
      "source": [
        "# Deep learning course first task\n",
        "\n",
        "Student: **Kristupas Gaidys** *(2015973)*\n",
        "\n",
        "Model: **resnet50**\n",
        "\n",
        "Classes: **broccoli**, **hotdog**, **zucchini**\n",
        "\n",
        "--- "
      ],
      "metadata": {
        "id": "SKXwprnVq3bJ"
      }
    },
    {
      "cell_type": "markdown",
      "source": [
        "## Configuration"
      ],
      "metadata": {
        "id": "6Em4FO0VJaix"
      }
    },
    {
      "cell_type": "code",
      "source": [
        "!pip install openimages torchmetrics"
      ],
      "metadata": {
        "id": "8T7NmQHjJgUi",
        "colab": {
          "base_uri": "https://localhost:8080/"
        },
        "outputId": "75e10246-e860-46c5-d152-9f475bd7c99f"
      },
      "execution_count": 1,
      "outputs": [
        {
          "output_type": "stream",
          "name": "stdout",
          "text": [
            "Looking in indexes: https://pypi.org/simple, https://us-python.pkg.dev/colab-wheels/public/simple/\n",
            "Collecting openimages\n",
            "  Downloading openimages-0.0.1-py2.py3-none-any.whl (10 kB)\n",
            "Collecting torchmetrics\n",
            "  Downloading torchmetrics-0.11.1-py3-none-any.whl (517 kB)\n",
            "\u001b[2K     \u001b[90m━━━━━━━━━━━━━━━━━━━━━━━━━━━━━━━━━━━━━━\u001b[0m \u001b[32m517.2/517.2 KB\u001b[0m \u001b[31m20.3 MB/s\u001b[0m eta \u001b[36m0:00:00\u001b[0m\n",
            "\u001b[?25hRequirement already satisfied: lxml in /usr/local/lib/python3.8/dist-packages (from openimages) (4.9.2)\n",
            "Requirement already satisfied: tqdm in /usr/local/lib/python3.8/dist-packages (from openimages) (4.64.1)\n",
            "Collecting boto3\n",
            "  Downloading boto3-1.26.79-py3-none-any.whl (132 kB)\n",
            "\u001b[2K     \u001b[90m━━━━━━━━━━━━━━━━━━━━━━━━━━━━━━━━━━━━━━━\u001b[0m \u001b[32m132.7/132.7 KB\u001b[0m \u001b[31m3.4 MB/s\u001b[0m eta \u001b[36m0:00:00\u001b[0m\n",
            "\u001b[?25hCollecting cvdata\n",
            "  Downloading cvdata-0.0.3-py3-none-any.whl (37 kB)\n",
            "Requirement already satisfied: requests in /usr/local/lib/python3.8/dist-packages (from openimages) (2.25.1)\n",
            "Requirement already satisfied: pandas in /usr/local/lib/python3.8/dist-packages (from openimages) (1.3.5)\n",
            "Requirement already satisfied: numpy>=1.17.2 in /usr/local/lib/python3.8/dist-packages (from torchmetrics) (1.22.4)\n",
            "Requirement already satisfied: typing-extensions in /usr/local/lib/python3.8/dist-packages (from torchmetrics) (4.5.0)\n",
            "Requirement already satisfied: torch>=1.8.1 in /usr/local/lib/python3.8/dist-packages (from torchmetrics) (1.13.1+cu116)\n",
            "Requirement already satisfied: packaging in /usr/local/lib/python3.8/dist-packages (from torchmetrics) (23.0)\n",
            "Collecting s3transfer<0.7.0,>=0.6.0\n",
            "  Downloading s3transfer-0.6.0-py3-none-any.whl (79 kB)\n",
            "\u001b[2K     \u001b[90m━━━━━━━━━━━━━━━━━━━━━━━━━━━━━━━━━━━━━━━━\u001b[0m \u001b[32m79.6/79.6 KB\u001b[0m \u001b[31m1.9 MB/s\u001b[0m eta \u001b[36m0:00:00\u001b[0m\n",
            "\u001b[?25hCollecting botocore<1.30.0,>=1.29.79\n",
            "  Downloading botocore-1.29.79-py3-none-any.whl (10.4 MB)\n",
            "\u001b[2K     \u001b[90m━━━━━━━━━━━━━━━━━━━━━━━━━━━━━━━━━━━━━━━━\u001b[0m \u001b[32m10.4/10.4 MB\u001b[0m \u001b[31m62.8 MB/s\u001b[0m eta \u001b[36m0:00:00\u001b[0m\n",
            "\u001b[?25hCollecting jmespath<2.0.0,>=0.7.1\n",
            "  Downloading jmespath-1.0.1-py3-none-any.whl (20 kB)\n",
            "Requirement already satisfied: pillow in /usr/local/lib/python3.8/dist-packages (from cvdata->openimages) (7.1.2)\n",
            "Requirement already satisfied: opencv-python in /usr/local/lib/python3.8/dist-packages (from cvdata->openimages) (4.6.0.66)\n",
            "Requirement already satisfied: python-dateutil>=2.7.3 in /usr/local/lib/python3.8/dist-packages (from pandas->openimages) (2.8.2)\n",
            "Requirement already satisfied: pytz>=2017.3 in /usr/local/lib/python3.8/dist-packages (from pandas->openimages) (2022.7.1)\n",
            "Requirement already satisfied: idna<3,>=2.5 in /usr/local/lib/python3.8/dist-packages (from requests->openimages) (2.10)\n",
            "Requirement already satisfied: certifi>=2017.4.17 in /usr/local/lib/python3.8/dist-packages (from requests->openimages) (2022.12.7)\n",
            "Requirement already satisfied: chardet<5,>=3.0.2 in /usr/local/lib/python3.8/dist-packages (from requests->openimages) (4.0.0)\n",
            "Requirement already satisfied: urllib3<1.27,>=1.21.1 in /usr/local/lib/python3.8/dist-packages (from requests->openimages) (1.24.3)\n",
            "Collecting urllib3<1.27,>=1.21.1\n",
            "  Downloading urllib3-1.26.14-py2.py3-none-any.whl (140 kB)\n",
            "\u001b[2K     \u001b[90m━━━━━━━━━━━━━━━━━━━━━━━━━━━━━━━━━━━━━━━\u001b[0m \u001b[32m140.6/140.6 KB\u001b[0m \u001b[31m8.8 MB/s\u001b[0m eta \u001b[36m0:00:00\u001b[0m\n",
            "\u001b[?25hRequirement already satisfied: six>=1.5 in /usr/local/lib/python3.8/dist-packages (from python-dateutil>=2.7.3->pandas->openimages) (1.15.0)\n",
            "Installing collected packages: urllib3, jmespath, torchmetrics, botocore, s3transfer, boto3, cvdata, openimages\n",
            "  Attempting uninstall: urllib3\n",
            "    Found existing installation: urllib3 1.24.3\n",
            "    Uninstalling urllib3-1.24.3:\n",
            "      Successfully uninstalled urllib3-1.24.3\n",
            "Successfully installed boto3-1.26.79 botocore-1.29.79 cvdata-0.0.3 jmespath-1.0.1 openimages-0.0.1 s3transfer-0.6.0 torchmetrics-0.11.1 urllib3-1.26.14\n"
          ]
        }
      ]
    },
    {
      "cell_type": "code",
      "source": [
        "import torch\n",
        "device = torch.device(\"cuda\" if torch.cuda.is_available() else \"cpu\")"
      ],
      "metadata": {
        "id": "ZvLM5vanmmpO"
      },
      "execution_count": 2,
      "outputs": []
    },
    {
      "cell_type": "markdown",
      "source": [
        "## Downloading data"
      ],
      "metadata": {
        "id": "pZis28bY368L"
      }
    },
    {
      "cell_type": "code",
      "source": [
        "from os import path, makedirs\n",
        "from math import ceil\n",
        "from openimages.download import download_dataset"
      ],
      "metadata": {
        "id": "DjST7MxSab7w"
      },
      "execution_count": 3,
      "outputs": []
    },
    {
      "cell_type": "code",
      "source": [
        "amount_to_classify = 1000\n",
        "data_dir = \"data\"\n",
        "images_per_class = ceil(amount_to_classify/3)\n",
        "classes = [\"Broccoli\", \"Pizza\", \"Banana\"]"
      ],
      "metadata": {
        "id": "LT3hD7KDadb5"
      },
      "execution_count": 4,
      "outputs": []
    },
    {
      "cell_type": "code",
      "source": [
        "if not path.exists(data_dir):\n",
        "    makedirs(data_dir)"
      ],
      "metadata": {
        "id": "-FsW7_6uader"
      },
      "execution_count": 5,
      "outputs": []
    },
    {
      "cell_type": "code",
      "source": [
        "download_dataset(data_dir, classes, limit=images_per_class)"
      ],
      "metadata": {
        "id": "pePq489aah1w",
        "colab": {
          "base_uri": "https://localhost:8080/"
        },
        "outputId": "af2302a8-0b98-4364-95fd-72634537bf88"
      },
      "execution_count": 6,
      "outputs": [
        {
          "output_type": "stream",
          "name": "stderr",
          "text": [
            "100%|██████████| 161/161 [00:10<00:00, 15.25it/s]\n",
            "100%|██████████| 334/334 [00:19<00:00, 17.01it/s]\n",
            "100%|██████████| 334/334 [00:19<00:00, 17.09it/s]\n",
            "100%|██████████| 10/10 [00:03<00:00,  2.89it/s]\n",
            "100%|██████████| 39/39 [00:04<00:00,  9.54it/s]\n"
          ]
        },
        {
          "output_type": "execute_result",
          "data": {
            "text/plain": [
              "{'broccoli': {'images_dir': 'data/broccoli/images'},\n",
              " 'pizza': {'images_dir': 'data/pizza/images'},\n",
              " 'banana': {'images_dir': 'data/banana/images'}}"
            ]
          },
          "metadata": {},
          "execution_count": 6
        }
      ]
    },
    {
      "cell_type": "markdown",
      "source": [
        "## Custom Dataset class"
      ],
      "metadata": {
        "id": "V2yGPCGQ61iE"
      }
    },
    {
      "cell_type": "code",
      "source": [
        "from torchvision.io import read_image\n",
        "from torch.utils.data.dataset import Dataset\n",
        "from glob import glob"
      ],
      "metadata": {
        "id": "jlbA--l97b54"
      },
      "execution_count": 7,
      "outputs": []
    },
    {
      "cell_type": "code",
      "source": [
        "class ClassificationDataset(Dataset):\n",
        "    def __init__(self,image_dir,transforms = None):\n",
        "        self.transforms = transforms\n",
        "        self.image_dir = image_dir\n",
        "\n",
        "\n",
        "        self.files = glob(image_dir + \"**/*.jpg\", recursive=True) \n",
        "        \n",
        "        \n",
        "    def __getitem__(self, index):\n",
        "        image_dir = self.files[index]\n",
        "        image_tensor = read_image(image_dir).float()\n",
        "\n",
        "        to_rgb = transforms.Lambda(lambda x: x.repeat(3, 1, 1) if x.size(0)==1 else x)\n",
        "        image_tensor = to_rgb(image_tensor)\n",
        " \n",
        "        if self.transforms is not None:\n",
        "            image_tensor = self.transforms(image_tensor)\n",
        "\n",
        "        class_name = image_dir.split(\"/\")[1]\n",
        "        label = torch.tensor([x.lower() for x in classes].index(class_name))\n",
        "\n",
        "        image_tensor, label = image_tensor.to(device), label.to(device)\n",
        "\n",
        "        return (image_tensor, label)    \n",
        "\n",
        "\n",
        "    def __len__(self):\n",
        "        return len(self.files)"
      ],
      "metadata": {
        "id": "RXyIaxouF3yf"
      },
      "execution_count": 8,
      "outputs": []
    },
    {
      "cell_type": "markdown",
      "source": [
        "## Model initialization\n"
      ],
      "metadata": {
        "id": "MtoDOWAK9mvT"
      }
    },
    {
      "cell_type": "code",
      "source": [
        "from torchvision.models import resnet50, ResNet50_Weights "
      ],
      "metadata": {
        "id": "3GSzD3479qyK"
      },
      "execution_count": 9,
      "outputs": []
    },
    {
      "cell_type": "code",
      "source": [
        "weights = ResNet50_Weights.DEFAULT\n",
        "\n",
        "model = resnet50(weights = weights)\n",
        "model.eval().to(device)"
      ],
      "metadata": {
        "colab": {
          "base_uri": "https://localhost:8080/",
          "height": 1000,
          "referenced_widgets": [
            "4f28f9a4d8814357ba431b21ee0fe0c5",
            "42f1fb4342cf40768c4282a869a81571",
            "93314d7115b24321a85104aefcc7adf3",
            "7f3d38f007604224a3ad8d0309b3bfa4",
            "2358f844523b466ea6d7a0360fab80fd",
            "580cc17d583142cfb62bcd0de6062e0a",
            "feb64c396cce48cd87e66dbdbb928dfb",
            "b50cf2fd395744cc8ad6fb4ffab2b938",
            "b89238621bbd4b769199537169404393",
            "773909cd79b64ea4a9da933acfaaf3b5",
            "56901ada612b4eeaa9218378f8ea7646"
          ]
        },
        "id": "G79adtrX9z5_",
        "outputId": "75b66cbb-1647-4047-a465-6011aa182a58"
      },
      "execution_count": 10,
      "outputs": [
        {
          "output_type": "stream",
          "name": "stderr",
          "text": [
            "Downloading: \"https://download.pytorch.org/models/resnet50-11ad3fa6.pth\" to /root/.cache/torch/hub/checkpoints/resnet50-11ad3fa6.pth\n"
          ]
        },
        {
          "output_type": "display_data",
          "data": {
            "text/plain": [
              "  0%|          | 0.00/97.8M [00:00<?, ?B/s]"
            ],
            "application/vnd.jupyter.widget-view+json": {
              "version_major": 2,
              "version_minor": 0,
              "model_id": "4f28f9a4d8814357ba431b21ee0fe0c5"
            }
          },
          "metadata": {}
        },
        {
          "output_type": "execute_result",
          "data": {
            "text/plain": [
              "ResNet(\n",
              "  (conv1): Conv2d(3, 64, kernel_size=(7, 7), stride=(2, 2), padding=(3, 3), bias=False)\n",
              "  (bn1): BatchNorm2d(64, eps=1e-05, momentum=0.1, affine=True, track_running_stats=True)\n",
              "  (relu): ReLU(inplace=True)\n",
              "  (maxpool): MaxPool2d(kernel_size=3, stride=2, padding=1, dilation=1, ceil_mode=False)\n",
              "  (layer1): Sequential(\n",
              "    (0): Bottleneck(\n",
              "      (conv1): Conv2d(64, 64, kernel_size=(1, 1), stride=(1, 1), bias=False)\n",
              "      (bn1): BatchNorm2d(64, eps=1e-05, momentum=0.1, affine=True, track_running_stats=True)\n",
              "      (conv2): Conv2d(64, 64, kernel_size=(3, 3), stride=(1, 1), padding=(1, 1), bias=False)\n",
              "      (bn2): BatchNorm2d(64, eps=1e-05, momentum=0.1, affine=True, track_running_stats=True)\n",
              "      (conv3): Conv2d(64, 256, kernel_size=(1, 1), stride=(1, 1), bias=False)\n",
              "      (bn3): BatchNorm2d(256, eps=1e-05, momentum=0.1, affine=True, track_running_stats=True)\n",
              "      (relu): ReLU(inplace=True)\n",
              "      (downsample): Sequential(\n",
              "        (0): Conv2d(64, 256, kernel_size=(1, 1), stride=(1, 1), bias=False)\n",
              "        (1): BatchNorm2d(256, eps=1e-05, momentum=0.1, affine=True, track_running_stats=True)\n",
              "      )\n",
              "    )\n",
              "    (1): Bottleneck(\n",
              "      (conv1): Conv2d(256, 64, kernel_size=(1, 1), stride=(1, 1), bias=False)\n",
              "      (bn1): BatchNorm2d(64, eps=1e-05, momentum=0.1, affine=True, track_running_stats=True)\n",
              "      (conv2): Conv2d(64, 64, kernel_size=(3, 3), stride=(1, 1), padding=(1, 1), bias=False)\n",
              "      (bn2): BatchNorm2d(64, eps=1e-05, momentum=0.1, affine=True, track_running_stats=True)\n",
              "      (conv3): Conv2d(64, 256, kernel_size=(1, 1), stride=(1, 1), bias=False)\n",
              "      (bn3): BatchNorm2d(256, eps=1e-05, momentum=0.1, affine=True, track_running_stats=True)\n",
              "      (relu): ReLU(inplace=True)\n",
              "    )\n",
              "    (2): Bottleneck(\n",
              "      (conv1): Conv2d(256, 64, kernel_size=(1, 1), stride=(1, 1), bias=False)\n",
              "      (bn1): BatchNorm2d(64, eps=1e-05, momentum=0.1, affine=True, track_running_stats=True)\n",
              "      (conv2): Conv2d(64, 64, kernel_size=(3, 3), stride=(1, 1), padding=(1, 1), bias=False)\n",
              "      (bn2): BatchNorm2d(64, eps=1e-05, momentum=0.1, affine=True, track_running_stats=True)\n",
              "      (conv3): Conv2d(64, 256, kernel_size=(1, 1), stride=(1, 1), bias=False)\n",
              "      (bn3): BatchNorm2d(256, eps=1e-05, momentum=0.1, affine=True, track_running_stats=True)\n",
              "      (relu): ReLU(inplace=True)\n",
              "    )\n",
              "  )\n",
              "  (layer2): Sequential(\n",
              "    (0): Bottleneck(\n",
              "      (conv1): Conv2d(256, 128, kernel_size=(1, 1), stride=(1, 1), bias=False)\n",
              "      (bn1): BatchNorm2d(128, eps=1e-05, momentum=0.1, affine=True, track_running_stats=True)\n",
              "      (conv2): Conv2d(128, 128, kernel_size=(3, 3), stride=(2, 2), padding=(1, 1), bias=False)\n",
              "      (bn2): BatchNorm2d(128, eps=1e-05, momentum=0.1, affine=True, track_running_stats=True)\n",
              "      (conv3): Conv2d(128, 512, kernel_size=(1, 1), stride=(1, 1), bias=False)\n",
              "      (bn3): BatchNorm2d(512, eps=1e-05, momentum=0.1, affine=True, track_running_stats=True)\n",
              "      (relu): ReLU(inplace=True)\n",
              "      (downsample): Sequential(\n",
              "        (0): Conv2d(256, 512, kernel_size=(1, 1), stride=(2, 2), bias=False)\n",
              "        (1): BatchNorm2d(512, eps=1e-05, momentum=0.1, affine=True, track_running_stats=True)\n",
              "      )\n",
              "    )\n",
              "    (1): Bottleneck(\n",
              "      (conv1): Conv2d(512, 128, kernel_size=(1, 1), stride=(1, 1), bias=False)\n",
              "      (bn1): BatchNorm2d(128, eps=1e-05, momentum=0.1, affine=True, track_running_stats=True)\n",
              "      (conv2): Conv2d(128, 128, kernel_size=(3, 3), stride=(1, 1), padding=(1, 1), bias=False)\n",
              "      (bn2): BatchNorm2d(128, eps=1e-05, momentum=0.1, affine=True, track_running_stats=True)\n",
              "      (conv3): Conv2d(128, 512, kernel_size=(1, 1), stride=(1, 1), bias=False)\n",
              "      (bn3): BatchNorm2d(512, eps=1e-05, momentum=0.1, affine=True, track_running_stats=True)\n",
              "      (relu): ReLU(inplace=True)\n",
              "    )\n",
              "    (2): Bottleneck(\n",
              "      (conv1): Conv2d(512, 128, kernel_size=(1, 1), stride=(1, 1), bias=False)\n",
              "      (bn1): BatchNorm2d(128, eps=1e-05, momentum=0.1, affine=True, track_running_stats=True)\n",
              "      (conv2): Conv2d(128, 128, kernel_size=(3, 3), stride=(1, 1), padding=(1, 1), bias=False)\n",
              "      (bn2): BatchNorm2d(128, eps=1e-05, momentum=0.1, affine=True, track_running_stats=True)\n",
              "      (conv3): Conv2d(128, 512, kernel_size=(1, 1), stride=(1, 1), bias=False)\n",
              "      (bn3): BatchNorm2d(512, eps=1e-05, momentum=0.1, affine=True, track_running_stats=True)\n",
              "      (relu): ReLU(inplace=True)\n",
              "    )\n",
              "    (3): Bottleneck(\n",
              "      (conv1): Conv2d(512, 128, kernel_size=(1, 1), stride=(1, 1), bias=False)\n",
              "      (bn1): BatchNorm2d(128, eps=1e-05, momentum=0.1, affine=True, track_running_stats=True)\n",
              "      (conv2): Conv2d(128, 128, kernel_size=(3, 3), stride=(1, 1), padding=(1, 1), bias=False)\n",
              "      (bn2): BatchNorm2d(128, eps=1e-05, momentum=0.1, affine=True, track_running_stats=True)\n",
              "      (conv3): Conv2d(128, 512, kernel_size=(1, 1), stride=(1, 1), bias=False)\n",
              "      (bn3): BatchNorm2d(512, eps=1e-05, momentum=0.1, affine=True, track_running_stats=True)\n",
              "      (relu): ReLU(inplace=True)\n",
              "    )\n",
              "  )\n",
              "  (layer3): Sequential(\n",
              "    (0): Bottleneck(\n",
              "      (conv1): Conv2d(512, 256, kernel_size=(1, 1), stride=(1, 1), bias=False)\n",
              "      (bn1): BatchNorm2d(256, eps=1e-05, momentum=0.1, affine=True, track_running_stats=True)\n",
              "      (conv2): Conv2d(256, 256, kernel_size=(3, 3), stride=(2, 2), padding=(1, 1), bias=False)\n",
              "      (bn2): BatchNorm2d(256, eps=1e-05, momentum=0.1, affine=True, track_running_stats=True)\n",
              "      (conv3): Conv2d(256, 1024, kernel_size=(1, 1), stride=(1, 1), bias=False)\n",
              "      (bn3): BatchNorm2d(1024, eps=1e-05, momentum=0.1, affine=True, track_running_stats=True)\n",
              "      (relu): ReLU(inplace=True)\n",
              "      (downsample): Sequential(\n",
              "        (0): Conv2d(512, 1024, kernel_size=(1, 1), stride=(2, 2), bias=False)\n",
              "        (1): BatchNorm2d(1024, eps=1e-05, momentum=0.1, affine=True, track_running_stats=True)\n",
              "      )\n",
              "    )\n",
              "    (1): Bottleneck(\n",
              "      (conv1): Conv2d(1024, 256, kernel_size=(1, 1), stride=(1, 1), bias=False)\n",
              "      (bn1): BatchNorm2d(256, eps=1e-05, momentum=0.1, affine=True, track_running_stats=True)\n",
              "      (conv2): Conv2d(256, 256, kernel_size=(3, 3), stride=(1, 1), padding=(1, 1), bias=False)\n",
              "      (bn2): BatchNorm2d(256, eps=1e-05, momentum=0.1, affine=True, track_running_stats=True)\n",
              "      (conv3): Conv2d(256, 1024, kernel_size=(1, 1), stride=(1, 1), bias=False)\n",
              "      (bn3): BatchNorm2d(1024, eps=1e-05, momentum=0.1, affine=True, track_running_stats=True)\n",
              "      (relu): ReLU(inplace=True)\n",
              "    )\n",
              "    (2): Bottleneck(\n",
              "      (conv1): Conv2d(1024, 256, kernel_size=(1, 1), stride=(1, 1), bias=False)\n",
              "      (bn1): BatchNorm2d(256, eps=1e-05, momentum=0.1, affine=True, track_running_stats=True)\n",
              "      (conv2): Conv2d(256, 256, kernel_size=(3, 3), stride=(1, 1), padding=(1, 1), bias=False)\n",
              "      (bn2): BatchNorm2d(256, eps=1e-05, momentum=0.1, affine=True, track_running_stats=True)\n",
              "      (conv3): Conv2d(256, 1024, kernel_size=(1, 1), stride=(1, 1), bias=False)\n",
              "      (bn3): BatchNorm2d(1024, eps=1e-05, momentum=0.1, affine=True, track_running_stats=True)\n",
              "      (relu): ReLU(inplace=True)\n",
              "    )\n",
              "    (3): Bottleneck(\n",
              "      (conv1): Conv2d(1024, 256, kernel_size=(1, 1), stride=(1, 1), bias=False)\n",
              "      (bn1): BatchNorm2d(256, eps=1e-05, momentum=0.1, affine=True, track_running_stats=True)\n",
              "      (conv2): Conv2d(256, 256, kernel_size=(3, 3), stride=(1, 1), padding=(1, 1), bias=False)\n",
              "      (bn2): BatchNorm2d(256, eps=1e-05, momentum=0.1, affine=True, track_running_stats=True)\n",
              "      (conv3): Conv2d(256, 1024, kernel_size=(1, 1), stride=(1, 1), bias=False)\n",
              "      (bn3): BatchNorm2d(1024, eps=1e-05, momentum=0.1, affine=True, track_running_stats=True)\n",
              "      (relu): ReLU(inplace=True)\n",
              "    )\n",
              "    (4): Bottleneck(\n",
              "      (conv1): Conv2d(1024, 256, kernel_size=(1, 1), stride=(1, 1), bias=False)\n",
              "      (bn1): BatchNorm2d(256, eps=1e-05, momentum=0.1, affine=True, track_running_stats=True)\n",
              "      (conv2): Conv2d(256, 256, kernel_size=(3, 3), stride=(1, 1), padding=(1, 1), bias=False)\n",
              "      (bn2): BatchNorm2d(256, eps=1e-05, momentum=0.1, affine=True, track_running_stats=True)\n",
              "      (conv3): Conv2d(256, 1024, kernel_size=(1, 1), stride=(1, 1), bias=False)\n",
              "      (bn3): BatchNorm2d(1024, eps=1e-05, momentum=0.1, affine=True, track_running_stats=True)\n",
              "      (relu): ReLU(inplace=True)\n",
              "    )\n",
              "    (5): Bottleneck(\n",
              "      (conv1): Conv2d(1024, 256, kernel_size=(1, 1), stride=(1, 1), bias=False)\n",
              "      (bn1): BatchNorm2d(256, eps=1e-05, momentum=0.1, affine=True, track_running_stats=True)\n",
              "      (conv2): Conv2d(256, 256, kernel_size=(3, 3), stride=(1, 1), padding=(1, 1), bias=False)\n",
              "      (bn2): BatchNorm2d(256, eps=1e-05, momentum=0.1, affine=True, track_running_stats=True)\n",
              "      (conv3): Conv2d(256, 1024, kernel_size=(1, 1), stride=(1, 1), bias=False)\n",
              "      (bn3): BatchNorm2d(1024, eps=1e-05, momentum=0.1, affine=True, track_running_stats=True)\n",
              "      (relu): ReLU(inplace=True)\n",
              "    )\n",
              "  )\n",
              "  (layer4): Sequential(\n",
              "    (0): Bottleneck(\n",
              "      (conv1): Conv2d(1024, 512, kernel_size=(1, 1), stride=(1, 1), bias=False)\n",
              "      (bn1): BatchNorm2d(512, eps=1e-05, momentum=0.1, affine=True, track_running_stats=True)\n",
              "      (conv2): Conv2d(512, 512, kernel_size=(3, 3), stride=(2, 2), padding=(1, 1), bias=False)\n",
              "      (bn2): BatchNorm2d(512, eps=1e-05, momentum=0.1, affine=True, track_running_stats=True)\n",
              "      (conv3): Conv2d(512, 2048, kernel_size=(1, 1), stride=(1, 1), bias=False)\n",
              "      (bn3): BatchNorm2d(2048, eps=1e-05, momentum=0.1, affine=True, track_running_stats=True)\n",
              "      (relu): ReLU(inplace=True)\n",
              "      (downsample): Sequential(\n",
              "        (0): Conv2d(1024, 2048, kernel_size=(1, 1), stride=(2, 2), bias=False)\n",
              "        (1): BatchNorm2d(2048, eps=1e-05, momentum=0.1, affine=True, track_running_stats=True)\n",
              "      )\n",
              "    )\n",
              "    (1): Bottleneck(\n",
              "      (conv1): Conv2d(2048, 512, kernel_size=(1, 1), stride=(1, 1), bias=False)\n",
              "      (bn1): BatchNorm2d(512, eps=1e-05, momentum=0.1, affine=True, track_running_stats=True)\n",
              "      (conv2): Conv2d(512, 512, kernel_size=(3, 3), stride=(1, 1), padding=(1, 1), bias=False)\n",
              "      (bn2): BatchNorm2d(512, eps=1e-05, momentum=0.1, affine=True, track_running_stats=True)\n",
              "      (conv3): Conv2d(512, 2048, kernel_size=(1, 1), stride=(1, 1), bias=False)\n",
              "      (bn3): BatchNorm2d(2048, eps=1e-05, momentum=0.1, affine=True, track_running_stats=True)\n",
              "      (relu): ReLU(inplace=True)\n",
              "    )\n",
              "    (2): Bottleneck(\n",
              "      (conv1): Conv2d(2048, 512, kernel_size=(1, 1), stride=(1, 1), bias=False)\n",
              "      (bn1): BatchNorm2d(512, eps=1e-05, momentum=0.1, affine=True, track_running_stats=True)\n",
              "      (conv2): Conv2d(512, 512, kernel_size=(3, 3), stride=(1, 1), padding=(1, 1), bias=False)\n",
              "      (bn2): BatchNorm2d(512, eps=1e-05, momentum=0.1, affine=True, track_running_stats=True)\n",
              "      (conv3): Conv2d(512, 2048, kernel_size=(1, 1), stride=(1, 1), bias=False)\n",
              "      (bn3): BatchNorm2d(2048, eps=1e-05, momentum=0.1, affine=True, track_running_stats=True)\n",
              "      (relu): ReLU(inplace=True)\n",
              "    )\n",
              "  )\n",
              "  (avgpool): AdaptiveAvgPool2d(output_size=(1, 1))\n",
              "  (fc): Linear(in_features=2048, out_features=1000, bias=True)\n",
              ")"
            ]
          },
          "metadata": {},
          "execution_count": 10
        }
      ]
    },
    {
      "cell_type": "markdown",
      "source": [
        "## Dataloader\n"
      ],
      "metadata": {
        "id": "2ZbsS7fE72BE"
      }
    },
    {
      "cell_type": "code",
      "source": [
        "from torch.utils.data import DataLoader\n",
        "import torchvision.transforms as transforms"
      ],
      "metadata": {
        "id": "ZKVfAds174op"
      },
      "execution_count": 11,
      "outputs": []
    },
    {
      "cell_type": "code",
      "source": [
        "transform = weights.transforms()"
      ],
      "metadata": {
        "id": "-HreVoJKOcC5"
      },
      "execution_count": 12,
      "outputs": []
    },
    {
      "cell_type": "code",
      "source": [
        "dataset = ClassificationDataset(\"data/\", transforms = transform)\n",
        "batchsize = 32\n",
        "workers = 3\n",
        "\n",
        "dataloader = DataLoader(\n",
        "    dataset,\n",
        "    batch_size = batchsize,\n",
        "    #num_workers = workers \n",
        ")"
      ],
      "metadata": {
        "id": "jjwn8KHJ7_9g"
      },
      "execution_count": 13,
      "outputs": []
    },
    {
      "cell_type": "markdown",
      "source": [
        "## Performing inference"
      ],
      "metadata": {
        "id": "_-gsrqL8BWTs"
      }
    },
    {
      "cell_type": "markdown",
      "source": [
        "*class_idx* is a list of indexes of our chosen classes in the model"
      ],
      "metadata": {
        "id": "mWrkaKLok0lG"
      }
    },
    {
      "cell_type": "code",
      "source": [
        "models_classes = weights.meta[\"categories\"]\n",
        "\n",
        "class_idx = [models_classes.index(chosen_class.lower()) for chosen_class in classes]"
      ],
      "metadata": {
        "id": "1ESPBf_DkoxZ"
      },
      "execution_count": 14,
      "outputs": []
    },
    {
      "cell_type": "code",
      "source": [
        "results_as_probabilities_with_target = []\n",
        "\n",
        "for _, (data, target) in enumerate(dataloader):\n",
        "    prediction = model(data).sigmoid()\n",
        "    \n",
        "    for image_idx, class_predictions in enumerate(prediction):\n",
        "        chosen_class_predictions = [class_predictions[idx].item() for idx in class_idx]\n",
        "        actual_class = target[image_idx].item()\n",
        "        results_as_probabilities_with_target.append((chosen_class_predictions, actual_class))"
      ],
      "metadata": {
        "id": "UuAq92HtBZ_G"
      },
      "execution_count": 15,
      "outputs": []
    },
    {
      "cell_type": "markdown",
      "source": [
        "*results_as_probabilities_with_target* variable holds a tuple where the first element is an array of our class probabilities and the second element of the tuple is the index of the actuall class."
      ],
      "metadata": {
        "id": "l1cMK7uFEpnC"
      }
    },
    {
      "cell_type": "markdown",
      "source": [
        "## Result interpretation"
      ],
      "metadata": {
        "id": "o39VlC89Ejjr"
      }
    },
    {
      "cell_type": "markdown",
      "source": [
        "### Baseline thresholds"
      ],
      "metadata": {
        "id": "y9FCNEBOFFQ-"
      }
    },
    {
      "cell_type": "code",
      "source": [
        "# List of class probabilities without the target\n",
        "results_as_probabilities = [x[0] for x in results_as_probabilities_with_target]    "
      ],
      "metadata": {
        "id": "CTClOAJVJGAi"
      },
      "execution_count": 16,
      "outputs": []
    },
    {
      "cell_type": "markdown",
      "source": [
        "Calculating a baseline threshold for our classes. Threshold will just be a mean of the predictions"
      ],
      "metadata": {
        "id": "OJFelEEaL6lW"
      }
    },
    {
      "cell_type": "code",
      "source": [
        "import numpy as np"
      ],
      "metadata": {
        "id": "joATon4JH1fq"
      },
      "execution_count": 17,
      "outputs": []
    },
    {
      "cell_type": "code",
      "source": [
        "thresholds = np.zeros(len(classes))\n",
        "\n",
        "for class_probabilities in results_as_probabilities: \n",
        "    for idx, value in enumerate(class_probabilities):\n",
        "        thresholds[idx] += value\n",
        "\n",
        "thresholds = [prob_sum / images_per_class for prob_sum in thresholds] \n",
        "\n",
        "print(thresholds)\n",
        "thresholds = [0.9,0.9,0.9]"
      ],
      "metadata": {
        "colab": {
          "base_uri": "https://localhost:8080/"
        },
        "id": "0EMk-kBPEmic",
        "outputId": "6ea3f29c-ff5a-464f-9cae-465907fb2d23"
      },
      "execution_count": 18,
      "outputs": [
        {
          "output_type": "stream",
          "name": "stdout",
          "text": [
            "[0.8897708074259769, 8.947452093471244e-12, 0.09935748144101238]\n"
          ]
        }
      ]
    },
    {
      "cell_type": "markdown",
      "source": [
        "### Comparing results to threshold values"
      ],
      "metadata": {
        "id": "DSSSO9ZBIPvo"
      }
    },
    {
      "cell_type": "markdown",
      "source": [
        "*results_as_booleans* is a list which contains lists of boolean values that describe if the class was detected in the image"
      ],
      "metadata": {
        "id": "cx3cW_0HL23Q"
      }
    },
    {
      "cell_type": "code",
      "source": [
        "results_as_booleans = []\n",
        "\n",
        "for class_probabilities in results_as_probabilities:\n",
        "    image_booleans = []\n",
        "    for class_idx, class_probability in enumerate(class_probabilities):\n",
        "        verdict = class_probability >= thresholds[class_idx]\n",
        "        image_booleans.append(int(verdict))\n",
        "    results_as_booleans.append(image_booleans)"
      ],
      "metadata": {
        "id": "zR-hmnCLImLC"
      },
      "execution_count": 19,
      "outputs": []
    },
    {
      "cell_type": "markdown",
      "source": [
        "*results_as_booleans_with_target* is a list of tuples where the first element is an array of booleans and the second element is the index of the class that we are expecting"
      ],
      "metadata": {
        "id": "sYZZO5uaNyeS"
      }
    },
    {
      "cell_type": "code",
      "source": [
        "results_as_booleans_with_target = []\n",
        "\n",
        "for idx in range(len(results_as_probabilities_with_target)):\n",
        "    booleans_with_target = (results_as_booleans[idx], results_as_probabilities_with_target[idx][1])\n",
        "    results_as_booleans_with_target.append(booleans_with_target) "
      ],
      "metadata": {
        "id": "xjpuYu_3PDpE"
      },
      "execution_count": 20,
      "outputs": []
    },
    {
      "cell_type": "markdown",
      "source": [
        "### Calculating TP, FP, TN, FN"
      ],
      "metadata": {
        "id": "pExAwRhUdC04"
      }
    },
    {
      "cell_type": "code",
      "source": [
        "true_positives = 0\n",
        "false_positives = 0\n",
        "true_negatives = 0\n",
        "false_negatives = 0"
      ],
      "metadata": {
        "id": "4XCDJLtidKz7"
      },
      "execution_count": 21,
      "outputs": []
    },
    {
      "cell_type": "code",
      "source": [
        "for predictions, target_idx in results_as_booleans_with_target:\n",
        "    for idx, prediction in enumerate(predictions):\n",
        "        # Positives\n",
        "        if prediction == 1 and idx == target_idx:\n",
        "            true_positives += 1\n",
        "        if prediction == 1 and idx != target_idx:\n",
        "            false_positives += 1\n",
        "            \n",
        "        # Negatives\n",
        "        if prediction == 0 and idx != target_idx:\n",
        "            true_negatives += 1\n",
        "        if prediction == 0 and idx == target_idx:\n",
        "            false_negatives += 1"
      ],
      "metadata": {
        "id": "FvBcInZJdbZY"
      },
      "execution_count": 22,
      "outputs": []
    },
    {
      "cell_type": "markdown",
      "source": [
        "### Calculating *accuracy*"
      ],
      "metadata": {
        "id": "CD6dkD0Hh-ah"
      }
    },
    {
      "cell_type": "markdown",
      "source": [
        "**Accuracy = (TP + TN) / (TP + TN + FP + FN)**"
      ],
      "metadata": {
        "id": "4o0vCnefiCGl"
      }
    },
    {
      "cell_type": "code",
      "source": [
        "accuracy = (true_positives + true_negatives) / \\\n",
        "    (true_positives + true_negatives + false_positives + false_negatives)"
      ],
      "metadata": {
        "id": "yqF69WSsiPGG"
      },
      "execution_count": 23,
      "outputs": []
    },
    {
      "cell_type": "markdown",
      "source": [
        "### Calculating *precision*"
      ],
      "metadata": {
        "id": "ZdK3FNXuhInI"
      }
    },
    {
      "cell_type": "markdown",
      "source": [
        "**Precision = TP / (TP + FP)**"
      ],
      "metadata": {
        "id": "794GE8hghQbY"
      }
    },
    {
      "cell_type": "code",
      "source": [
        "precision = true_positives / (true_positives + false_positives)"
      ],
      "metadata": {
        "id": "tG87RW9ThPwZ"
      },
      "execution_count": 24,
      "outputs": []
    },
    {
      "cell_type": "markdown",
      "source": [
        "### Calculating *recall*"
      ],
      "metadata": {
        "id": "1XMyqYByhs_C"
      }
    },
    {
      "cell_type": "markdown",
      "source": [
        "**Recall = TP / (TP + FN)**"
      ],
      "metadata": {
        "id": "V06QLkZNhvnS"
      }
    },
    {
      "cell_type": "code",
      "source": [
        "recall = true_positives / (true_positives + false_negatives)"
      ],
      "metadata": {
        "id": "JqpJ0mHrhxM-"
      },
      "execution_count": 25,
      "outputs": []
    },
    {
      "cell_type": "markdown",
      "source": [
        "### Calculating *F1 score*"
      ],
      "metadata": {
        "id": "2IkzbQ4xiq7C"
      }
    },
    {
      "cell_type": "markdown",
      "source": [
        "**F1 score = 2 * (precision * recall) / (precision + recall)**"
      ],
      "metadata": {
        "id": "uytr4t8livY0"
      }
    },
    {
      "cell_type": "code",
      "source": [
        "f1 = 2 * (precision * recall) / (precision + recall)"
      ],
      "metadata": {
        "id": "GrvCO1eeizxk"
      },
      "execution_count": 26,
      "outputs": []
    },
    {
      "cell_type": "markdown",
      "source": [
        "## Generating report"
      ],
      "metadata": {
        "id": "Wc6pZS5Hi-kL"
      }
    },
    {
      "cell_type": "markdown",
      "source": [
        "This library was used to verify that calculations statistic calculations are correct"
      ],
      "metadata": {
        "id": "mJFmhzNv0-mo"
      }
    },
    {
      "cell_type": "code",
      "source": [
        "import torchmetrics"
      ],
      "metadata": {
        "id": "A29TgAvGrdnv"
      },
      "execution_count": 27,
      "outputs": []
    },
    {
      "cell_type": "code",
      "source": [
        "predictions, targets = zip(*results_as_probabilities_with_target)\n",
        "trg = [np.zeros(len(classes)) for x in targets]\n",
        "for idx, arr in enumerate(trg):\n",
        "    arr[targets[idx]] = 1\n",
        "\n",
        "predictions_tensor = torch.tensor(predictions)\n",
        "targets_tensor = torch.tensor(trg)\n",
        "\n",
        "threshold = 0.9\n",
        "\n",
        "accuracy_metric = torchmetrics.classification.MultilabelAccuracy(num_labels = 3, threshold = threshold, average = \"micro\")\n",
        "accuracy = accuracy_metric(predictions_tensor, targets_tensor).item()\n",
        "\n",
        "precision_metric = torchmetrics.classification.MultilabelPrecision(num_labels = 3, threshold = threshold, average = \"micro\")\n",
        "precision = precision_metric(predictions_tensor, targets_tensor).item()\n",
        "\n",
        "recall_metric = torchmetrics.classification.MultilabelRecall(num_labels = 3, threshold = threshold, average = \"micro\")\n",
        "recall = recall_metric(predictions_tensor, targets_tensor).item()\n",
        "\n",
        "f1_metric = torchmetrics.classification.MultilabelF1Score(num_labels = 3, threshold = threshold, average = \"micro\")\n",
        "f1 = f1_metric(predictions_tensor, targets_tensor).item()\n",
        "\n",
        "print(\"Accuracy:\", accuracy)\n",
        "print(\"Precision:\", precision)\n",
        "print(\"Recall:\", recall)\n",
        "print(\"F1 score:\", f1)"
      ],
      "metadata": {
        "id": "9utyPhDFrbsi",
        "outputId": "64781d34-2f6d-4188-a4b4-27f2bfd5025a",
        "colab": {
          "base_uri": "https://localhost:8080/"
        }
      },
      "execution_count": 29,
      "outputs": [
        {
          "output_type": "stream",
          "name": "stdout",
          "text": [
            "Accuracy: 0.6100987195968628\n",
            "Precision: 0.25573769211769104\n",
            "Recall: 0.08883827179670334\n",
            "F1 score: 0.1318681389093399\n"
          ]
        }
      ]
    },
    {
      "cell_type": "code",
      "source": [
        "print(\"Chosen classes: \\t\\t\\t\", classes)\n",
        "print(\"\\n\")\n",
        "\n",
        "print(\"Amount of predictions done: \\t\\t\", amount_to_classify)\n",
        "print(\"Images per class: \\t\\t\\t\", images_per_class)\n",
        "print(\"\\n\")\n",
        "\n",
        "print(\"TP: \\t\\t\\t\\t\\t\", true_positives)\n",
        "print(\"FP: \\t\\t\\t\\t\\t\", false_positives)\n",
        "print(\"TN: \\t\\t\\t\\t\\t\", true_negatives)\n",
        "print(\"FN: \\t\\t\\t\\t\\t\", false_negatives)\n",
        "print(\"\\n\")\n",
        "\n",
        "print(\"Accuracy: \\t\\t\\t\\t\", accuracy)\n",
        "print(\"Precision: \\t\\t\\t\\t\", precision)\n",
        "print(\"Recall: \\t\\t\\t\\t\", recall)\n",
        "print(\"F1 score: \\t\\t\\t\\t\", f1)"
      ],
      "metadata": {
        "colab": {
          "base_uri": "https://localhost:8080/"
        },
        "id": "54ocdygvjFeE",
        "outputId": "9b841183-c52f-43d8-ecc2-45eea0c8ac8b"
      },
      "execution_count": 30,
      "outputs": [
        {
          "output_type": "stream",
          "name": "stdout",
          "text": [
            "Chosen classes: \t\t\t ['Broccoli', 'Pizza', 'Banana']\n",
            "\n",
            "\n",
            "Amount of predictions done: \t\t 1000\n",
            "Images per class: \t\t\t 334\n",
            "\n",
            "\n",
            "TP: \t\t\t\t\t 78\n",
            "FP: \t\t\t\t\t 227\n",
            "TN: \t\t\t\t\t 1529\n",
            "FN: \t\t\t\t\t 800\n",
            "\n",
            "\n",
            "Accuracy: \t\t\t\t 0.6100987195968628\n",
            "Precision: \t\t\t\t 0.25573769211769104\n",
            "Recall: \t\t\t\t 0.08883827179670334\n",
            "F1 score: \t\t\t\t 0.1318681389093399\n"
          ]
        }
      ]
    }
  ]
}