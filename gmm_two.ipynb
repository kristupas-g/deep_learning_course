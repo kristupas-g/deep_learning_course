{
  "nbformat": 4,
  "nbformat_minor": 0,
  "metadata": {
    "colab": {
      "provenance": [],
      "collapsed_sections": [
        "6Em4FO0VJaix",
        "pZis28bY368L",
        "V2yGPCGQ61iE",
        "MtoDOWAK9mvT",
        "2ZbsS7fE72BE",
        "_-gsrqL8BWTs",
        "o39VlC89Ejjr",
        "DSSSO9ZBIPvo",
        "pExAwRhUdC04",
        "CD6dkD0Hh-ah",
        "ZdK3FNXuhInI",
        "1XMyqYByhs_C",
        "2IkzbQ4xiq7C"
      ],
      "authorship_tag": "ABX9TyMuxoP0xQcF7TK/mijpMx1U",
      "include_colab_link": true
    },
    "kernelspec": {
      "name": "python3",
      "display_name": "Python 3"
    },
    "language_info": {
      "name": "python"
    },
    "accelerator": "GPU",
    "gpuClass": "standard"
  },
  "cells": [
    {
      "cell_type": "markdown",
      "metadata": {
        "id": "view-in-github",
        "colab_type": "text"
      },
      "source": [
        "<a href=\"https://colab.research.google.com/github/kristupas-g/deep_learning_course/blob/main/gmm_two.ipynb\" target=\"_parent\"><img src=\"https://colab.research.google.com/assets/colab-badge.svg\" alt=\"Open In Colab\"/></a>"
      ]
    },
    {
      "cell_type": "markdown",
      "source": [
        "# Deep learning course first task\n",
        "\n",
        "Student: **Kristupas Gaidys** *(2015973)*\n",
        "--- "
      ],
      "metadata": {
        "id": "SKXwprnVq3bJ"
      }
    },
    {
      "cell_type": "code",
      "source": [
        "CLASSES = [\"Broccoli\", \"Pizza\", \"Banana\"]\n",
        "DATASET_SIZE = 100\n",
        "TEST_SET_SIZE = 10\n",
        "BATCHSIZE = 64\n",
        "EPOCHS = 5"
      ],
      "metadata": {
        "id": "9IQSXcyyAnWS"
      },
      "execution_count": null,
      "outputs": []
    },
    {
      "cell_type": "markdown",
      "source": [
        "## Configuration"
      ],
      "metadata": {
        "id": "6Em4FO0VJaix"
      }
    },
    {
      "cell_type": "code",
      "source": [
        "!pip install openimages"
      ],
      "metadata": {
        "id": "8T7NmQHjJgUi"
      },
      "execution_count": null,
      "outputs": []
    },
    {
      "cell_type": "code",
      "source": [
        "import torch\n",
        "device = torch.device(\"cuda\" if torch.cuda.is_available() else \"cpu\")"
      ],
      "metadata": {
        "id": "ZvLM5vanmmpO"
      },
      "execution_count": null,
      "outputs": []
    },
    {
      "cell_type": "markdown",
      "source": [
        "## Downloading data"
      ],
      "metadata": {
        "id": "pZis28bY368L"
      }
    },
    {
      "cell_type": "code",
      "source": [
        "from os import path, makedirs\n",
        "from math import ceil\n",
        "from openimages.download import download_dataset"
      ],
      "metadata": {
        "id": "DjST7MxSab7w"
      },
      "execution_count": null,
      "outputs": []
    },
    {
      "cell_type": "code",
      "source": [
        "data_dir = \"data\"\n",
        "num_of_classes = len(CLASSES)\n",
        "images_per_class = ceil(DATASET_SIZE / num_of_classes + TEST_SET_SIZE / num_of_classes)"
      ],
      "metadata": {
        "id": "LT3hD7KDadb5"
      },
      "execution_count": null,
      "outputs": []
    },
    {
      "cell_type": "code",
      "source": [
        "if not path.exists(data_dir):\n",
        "    makedirs(data_dir)"
      ],
      "metadata": {
        "id": "-FsW7_6uader"
      },
      "execution_count": null,
      "outputs": []
    },
    {
      "cell_type": "code",
      "source": [
        "download_dataset(data_dir, classes, limit=images_per_class)"
      ],
      "metadata": {
        "id": "pePq489aah1w",
        "colab": {
          "base_uri": "https://localhost:8080/"
        },
        "outputId": "5052f9ab-a617-4d63-c3c6-baaa4204c81e"
      },
      "execution_count": null,
      "outputs": [
        {
          "output_type": "stream",
          "name": "stderr",
          "text": [
            "100%|██████████| 161/161 [00:02<00:00, 58.09it/s]\n",
            "100%|██████████| 334/334 [00:05<00:00, 60.64it/s]\n",
            "100%|██████████| 334/334 [00:05<00:00, 64.21it/s]\n",
            "100%|██████████| 10/10 [00:00<00:00, 16.31it/s]\n",
            "100%|██████████| 39/39 [00:00<00:00, 42.13it/s]\n"
          ]
        },
        {
          "output_type": "execute_result",
          "data": {
            "text/plain": [
              "{'broccoli': {'images_dir': 'data/broccoli/images'},\n",
              " 'pizza': {'images_dir': 'data/pizza/images'},\n",
              " 'banana': {'images_dir': 'data/banana/images'}}"
            ]
          },
          "metadata": {},
          "execution_count": 5
        }
      ]
    },
    {
      "cell_type": "markdown",
      "source": [
        "## Custom Dataset class"
      ],
      "metadata": {
        "id": "V2yGPCGQ61iE"
      }
    },
    {
      "cell_type": "code",
      "source": [
        "from torch.utils.data.dataset import Dataset\n",
        "from torch.utils.data import random_split\n",
        "from glob import glob\n",
        "from PIL import Image\n",
        "import torchvision.transforms as transforms"
      ],
      "metadata": {
        "id": "jlbA--l97b54"
      },
      "execution_count": null,
      "outputs": []
    },
    {
      "cell_type": "code",
      "source": [
        "class OpenImagesDataset(Dataset):\n",
        "    def __init__(self,image_dir,transforms = None):\n",
        "        self.transforms = transforms\n",
        "        self.image_dir = image_dir\n",
        "\n",
        "        self.files = glob(image_dir + \"**/*.jpg\", recursive=True) \n",
        "        \n",
        "        \n",
        "    def __getitem__(self, index):\n",
        "        image_dir = self.files[index]\n",
        "        image_tensor = Image.open(image_dir).convert('RGB')\n",
        "        \n",
        "        image_tensor_transformed = image_tensor\n",
        "        if self.transforms is not None:\n",
        "           image_tensor_transformed = self.transforms(image_tensor)\n",
        "\n",
        "        class_name = image_dir.split(\"/\")[1]\n",
        "        label = torch.tensor([x.lower() for x in classes].index(class_name))\n",
        "\n",
        "        return (image_tensor_transformed, label)    \n",
        "\n",
        "\n",
        "    def __len__(self):\n",
        "        return len(self.files)"
      ],
      "metadata": {
        "id": "RXyIaxouF3yf"
      },
      "execution_count": null,
      "outputs": []
    },
    {
      "cell_type": "markdown",
      "source": [
        "## Dataloader\n"
      ],
      "metadata": {
        "id": "2ZbsS7fE72BE"
      }
    },
    {
      "cell_type": "code",
      "source": [
        "from torch.utils.data import DataLoader\n",
        "import torchvision.transforms as transforms"
      ],
      "metadata": {
        "id": "ZKVfAds174op"
      },
      "execution_count": null,
      "outputs": []
    },
    {
      "cell_type": "code",
      "source": [
        "dataset = ClassificationDataset(data_dir + \"/\", transforms = transform)\n",
        "train_dataset, test_dataset = random_split(images, [train_size, test_size))\n",
        "\n",
        "training_loader = DataLoader(\n",
        "    training_dataset,\n",
        "    batch_size = BATCHSIZE,\n",
        ")\n",
        "\n",
        "testing_loader = DataLoader(\n",
        "    test_dataset,\n",
        "    batch_size = BATCHSIZE\n",
        ")"
      ],
      "metadata": {
        "id": "jjwn8KHJ7_9g"
      },
      "execution_count": null,
      "outputs": []
    },
    {
      "cell_type": "markdown",
      "source": [
        "## Model creation\n"
      ],
      "metadata": {
        "id": "MtoDOWAK9mvT"
      }
    },
    {
      "cell_type": "code",
      "source": [
        "amount_of_classes = len(CLASSES)"
      ],
      "metadata": {
        "id": "roeyVpf8fWnk"
      },
      "execution_count": null,
      "outputs": []
    },
    {
      "cell_type": "code",
      "source": [
        "from torch import nn"
      ],
      "metadata": {
        "id": "K9Xmja1IfHzV"
      },
      "execution_count": null,
      "outputs": []
    },
    {
      "cell_type": "code",
      "source": [
        "class Model(nn.Module):\n",
        "    def __init__(self):\n",
        "        super(Model, self).__init__()\n",
        "        self.layer1 = nn.Sequential(\n",
        "            nn.Conv2d(3, 64, kernel_size=3, stride=1, padding=1),\n",
        "            nn.BatchNorm2d(64),\n",
        "            nn.ReLU())\n",
        "        self.layer2 = nn.Sequential(\n",
        "            nn.Conv2d(64, 64, kernel_size=3, stride=1, padding=1),\n",
        "            nn.BatchNorm2d(64),\n",
        "            nn.ReLU(), \n",
        "            nn.MaxPool2d(kernel_size = 2, stride = 2))\n",
        "        self.layer3 = nn.Sequential(\n",
        "            nn.Conv2d(64, 128, kernel_size=3, stride=1, padding=1),\n",
        "            nn.BatchNorm2d(128),\n",
        "            nn.ReLU())\n",
        "        self.layer4 = nn.Sequential(\n",
        "            nn.Conv2d(128, 128, kernel_size=3, stride=1, padding=1),\n",
        "            nn.BatchNorm2d(128),\n",
        "            nn.ReLU(),\n",
        "            nn.MaxPool2d(kernel_size = 2, stride = 2))\n",
        "        self.layer5 = nn.Sequential(\n",
        "            nn.Conv2d(128, 256, kernel_size=3, stride=1, padding=1),\n",
        "            nn.BatchNorm2d(256),\n",
        "            nn.ReLU())\n",
        "        self.layer6 = nn.Sequential(\n",
        "            nn.Conv2d(256, 256, kernel_size=3, stride=1, padding=1),\n",
        "            nn.BatchNorm2d(256),\n",
        "            nn.ReLU())\n",
        "        self.layer7 = nn.Sequential(\n",
        "            nn.Conv2d(256, 256, kernel_size=3, stride=1, padding=1),\n",
        "            nn.BatchNorm2d(256),\n",
        "            nn.ReLU(),\n",
        "            nn.MaxPool2d(kernel_size = 2, stride = 2))\n",
        "        self.layer8 = nn.Sequential(\n",
        "            nn.Conv2d(256, 512, kernel_size=3, stride=1, padding=1),\n",
        "            nn.BatchNorm2d(512),\n",
        "            nn.ReLU())\n",
        "        self.layer9 = nn.Sequential(\n",
        "            nn.Conv2d(512, 512, kernel_size=3, stride=1, padding=1),\n",
        "            nn.BatchNorm2d(512),\n",
        "            nn.ReLU())\n",
        "        self.layer10 = nn.Sequential(\n",
        "            nn.Conv2d(512, 512, kernel_size=3, stride=1, padding=1),\n",
        "            nn.BatchNorm2d(512),\n",
        "            nn.ReLU(),\n",
        "            nn.MaxPool2d(kernel_size = 2, stride = 2))\n",
        "        self.layer11 = nn.Sequential(\n",
        "            nn.Conv2d(512, 512, kernel_size=3, stride=1, padding=1),\n",
        "            nn.BatchNorm2d(512),\n",
        "            nn.ReLU())\n",
        "        self.layer12 = nn.Sequential(\n",
        "            nn.Conv2d(512, 512, kernel_size=3, stride=1, padding=1),\n",
        "            nn.BatchNorm2d(512),\n",
        "            nn.ReLU())\n",
        "        self.layer13 = nn.Sequential(\n",
        "            nn.Conv2d(512, 512, kernel_size=3, stride=1, padding=1),\n",
        "            nn.BatchNorm2d(512),\n",
        "            nn.ReLU(),\n",
        "            nn.MaxPool2d(kernel_size = 2, stride = 2))\n",
        "        self.fc = nn.Sequential(\n",
        "            nn.Dropout(0.5),\n",
        "            nn.Linear(7*7*512, 4096),\n",
        "            nn.ReLU())\n",
        "        self.fc1 = nn.Sequential(\n",
        "            nn.Dropout(0.5),\n",
        "            nn.Linear(4096, 4096),\n",
        "            nn.ReLU())\n",
        "        self.fc2= nn.Sequential(\n",
        "            nn.Linear(4096, amount_of_classes))\n",
        "        \n",
        "    def forward(self, x):\n",
        "        out = self.layer1(x)\n",
        "        out = self.layer2(out)\n",
        "        out = self.layer3(out)\n",
        "        out = self.layer4(out)\n",
        "        out = self.layer5(out)\n",
        "        out = self.layer6(out)\n",
        "        out = self.layer7(out)\n",
        "        out = self.layer8(out)\n",
        "        out = self.layer9(out)\n",
        "        out = self.layer10(out)\n",
        "        out = self.layer11(out)\n",
        "        out = self.layer12(out)\n",
        "        out = self.layer13(out)\n",
        "        out = out.reshape(out.size(0), -1)\n",
        "        out = self.fc(out)\n",
        "        out = self.fc1(out)\n",
        "        out = self.fc2(out)\n",
        "        return out"
      ],
      "metadata": {
        "id": "yhsyLmAFbtWc"
      },
      "execution_count": null,
      "outputs": []
    },
    {
      "cell_type": "markdown",
      "source": [
        "## Training"
      ],
      "metadata": {
        "id": "_-gsrqL8BWTs"
      }
    },
    {
      "cell_type": "markdown",
      "source": [
        "*class_idx* is a list of indexes of our chosen classes in the model"
      ],
      "metadata": {
        "id": "mWrkaKLok0lG"
      }
    },
    {
      "cell_type": "code",
      "source": [
        "models_classes = weights.meta[\"categories\"]\n",
        "\n",
        "class_idx = [models_classes.index(chosen_class.lower()) for chosen_class in classes]"
      ],
      "metadata": {
        "id": "1ESPBf_DkoxZ"
      },
      "execution_count": null,
      "outputs": []
    },
    {
      "cell_type": "code",
      "source": [
        "results_as_probabilities_with_target = []\n",
        "\n",
        "for _, (data, target) in enumerate(dataloader):\n",
        "    prediction = model(data).softmax(0)\n",
        "    \n",
        "    for image_idx, class_predictions in enumerate(prediction):\n",
        "        chosen_class_predictions = [class_predictions[idx].item() for idx in class_idx]\n",
        "        actual_class = target[image_idx].item()\n",
        "        results_as_probabilities_with_target.append((chosen_class_predictions, actual_class))"
      ],
      "metadata": {
        "id": "UuAq92HtBZ_G"
      },
      "execution_count": null,
      "outputs": []
    },
    {
      "cell_type": "markdown",
      "source": [
        "*results_as_probabilities_with_target* variable holds a tuple where the first element is an array of our class probabilities and the second element of the tuple is the index of the actuall class."
      ],
      "metadata": {
        "id": "l1cMK7uFEpnC"
      }
    }
  ]
}